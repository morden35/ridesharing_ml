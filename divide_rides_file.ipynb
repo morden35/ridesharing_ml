{
 "cells": [
  {
   "cell_type": "markdown",
   "id": "99c3502e",
   "metadata": {},
   "source": [
    "The following code takes random samples of the entire 2019 rides file."
   ]
  },
  {
   "cell_type": "code",
   "execution_count": 80,
   "id": "1cde286b",
   "metadata": {},
   "outputs": [],
   "source": [
    "import pandas as pd"
   ]
  },
  {
   "cell_type": "code",
   "execution_count": 81,
   "id": "7d834717",
   "metadata": {},
   "outputs": [],
   "source": [
    "results = pd.read_csv(\"../Transportation_Network_Providers_-_Trips_-_2019.csv\")"
   ]
  },
  {
   "cell_type": "code",
   "execution_count": 89,
   "id": "1cd2147d",
   "metadata": {},
   "outputs": [],
   "source": [
    "sample_0008 = results.sample(frac=0.0008)"
   ]
  },
  {
   "cell_type": "code",
   "execution_count": 90,
   "id": "991baeec",
   "metadata": {},
   "outputs": [],
   "source": [
    "sample_0008.to_csv(\"data/sample_0008.csv\", compression=\"gzip\")"
   ]
  },
  {
   "cell_type": "code",
   "execution_count": 91,
   "id": "fc24f70c",
   "metadata": {},
   "outputs": [],
   "source": [
    "sample_003 = results.sample(frac=0.003)"
   ]
  },
  {
   "cell_type": "code",
   "execution_count": 92,
   "id": "6f235d41",
   "metadata": {},
   "outputs": [],
   "source": [
    "sample_003.to_csv(\"data/sample_003.csv\", compression=\"gzip\")"
   ]
  }
 ],
 "metadata": {
  "kernelspec": {
   "display_name": "Python 3",
   "language": "python",
   "name": "python3"
  },
  "language_info": {
   "codemirror_mode": {
    "name": "ipython",
    "version": 3
   },
   "file_extension": ".py",
   "mimetype": "text/x-python",
   "name": "python",
   "nbconvert_exporter": "python",
   "pygments_lexer": "ipython3",
   "version": "3.8.8"
  }
 },
 "nbformat": 4,
 "nbformat_minor": 5
}
