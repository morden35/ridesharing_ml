{
 "cells": [
  {
   "cell_type": "code",
   "execution_count": 1,
   "id": "b6363a02",
   "metadata": {},
   "outputs": [],
   "source": [
    "import pandas as pd"
   ]
  },
  {
   "cell_type": "code",
   "execution_count": 2,
   "id": "e9e13308",
   "metadata": {},
   "outputs": [
    {
     "name": "stderr",
     "output_type": "stream",
     "text": [
      "/Users/michelleorden/opt/anaconda3/lib/python3.8/site-packages/IPython/core/interactiveshell.py:3165: DtypeWarning: Columns (13) have mixed types.Specify dtype option on import or set low_memory=False.\n",
      "  has_raised = await self.run_ast_nodes(code_ast.body, cell_name,\n"
     ]
    }
   ],
   "source": [
    "rides_2019 = pd.read_csv(\"data/Transportation_Network_Providers_-_Trips_-_2019.csv\")"
   ]
  },
  {
   "cell_type": "code",
   "execution_count": 4,
   "id": "04c7776b",
   "metadata": {},
   "outputs": [],
   "source": [
    "rides_2019['Trip Start Timestamp'] = pd.to_datetime(rides_2019['Trip Start Timestamp'])"
   ]
  },
  {
   "cell_type": "code",
   "execution_count": 12,
   "id": "6c289b70",
   "metadata": {},
   "outputs": [],
   "source": [
    "jan_2019 = rides_2019[(rides_2019['Trip Start Timestamp'] >= '2019-01-01') & (rides_2019['Trip Start Timestamp'] < '2019-02-01')]"
   ]
  },
  {
   "cell_type": "code",
   "execution_count": 14,
   "id": "78fa2f3c",
   "metadata": {},
   "outputs": [
    {
     "data": {
      "text/plain": [
       "77983.36"
      ]
     },
     "execution_count": 14,
     "metadata": {},
     "output_type": "execute_result"
    }
   ],
   "source": [
    "len(rides_2019) / 200"
   ]
  },
  {
   "cell_type": "code",
   "execution_count": 21,
   "id": "c8e42bf1",
   "metadata": {},
   "outputs": [],
   "source": [
    "# split up file into 200 smaller files\n",
    "# smaller_files = []\n",
    "for x in range(200):\n",
    "    if x == 0:\n",
    "        start_idx = 0\n",
    "        stop_idx = 77984\n",
    "        rides_2019_small = rides_2019[start_idx:stop_idx][:]\n",
    "    elif x == 199:\n",
    "        start_idx = 77984 * x\n",
    "        rides_2019_small = rides_2019[start_idx:][:]\n",
    "    else:\n",
    "        start_idx = 77984 * x\n",
    "        stop_idx = start_idx + 77984\n",
    "        rides_2019_small = rides_2019[start_idx:stop_idx][:]\n",
    "    # smaller_files.append(rides_2019_small)\n",
    "    rides_2019_small.to_csv(f\"data/rides_2019_{x}.csv\")"
   ]
  },
  {
   "cell_type": "code",
   "execution_count": 20,
   "id": "258622b0",
   "metadata": {},
   "outputs": [
    {
     "data": {
      "text/plain": [
       "200"
      ]
     },
     "execution_count": 20,
     "metadata": {},
     "output_type": "execute_result"
    }
   ],
   "source": [
    "len(smaller_files)"
   ]
  },
  {
   "cell_type": "code",
   "execution_count": 5,
   "id": "18e7433f",
   "metadata": {},
   "outputs": [
    {
     "data": {
      "text/html": [
       "<div>\n",
       "<style scoped>\n",
       "    .dataframe tbody tr th:only-of-type {\n",
       "        vertical-align: middle;\n",
       "    }\n",
       "\n",
       "    .dataframe tbody tr th {\n",
       "        vertical-align: top;\n",
       "    }\n",
       "\n",
       "    .dataframe thead th {\n",
       "        text-align: right;\n",
       "    }\n",
       "</style>\n",
       "<table border=\"1\" class=\"dataframe\">\n",
       "  <thead>\n",
       "    <tr style=\"text-align: right;\">\n",
       "      <th></th>\n",
       "      <th>Trip ID</th>\n",
       "      <th>Trip Start Timestamp</th>\n",
       "      <th>Trip End Timestamp</th>\n",
       "      <th>Trip Seconds</th>\n",
       "      <th>Trip Miles</th>\n",
       "      <th>Pickup Census Tract</th>\n",
       "      <th>Dropoff Census Tract</th>\n",
       "      <th>Pickup Community Area</th>\n",
       "      <th>Dropoff Community Area</th>\n",
       "      <th>Fare</th>\n",
       "      <th>...</th>\n",
       "      <th>Additional Charges</th>\n",
       "      <th>Trip Total</th>\n",
       "      <th>Shared Trip Authorized</th>\n",
       "      <th>Trips Pooled</th>\n",
       "      <th>Pickup Centroid Latitude</th>\n",
       "      <th>Pickup Centroid Longitude</th>\n",
       "      <th>Pickup Centroid Location</th>\n",
       "      <th>Dropoff Centroid Latitude</th>\n",
       "      <th>Dropoff Centroid Longitude</th>\n",
       "      <th>Dropoff Centroid Location</th>\n",
       "    </tr>\n",
       "  </thead>\n",
       "  <tbody>\n",
       "    <tr>\n",
       "      <th>0</th>\n",
       "      <td>003dd08da70461f811e7753fbaec03970414bddf</td>\n",
       "      <td>2019-01-01</td>\n",
       "      <td>01/01/2019 12:30:00 AM</td>\n",
       "      <td>1722.0</td>\n",
       "      <td>9.5</td>\n",
       "      <td>1.703108e+10</td>\n",
       "      <td>1.703183e+10</td>\n",
       "      <td>8.0</td>\n",
       "      <td>1.0</td>\n",
       "      <td>17.5</td>\n",
       "      <td>...</td>\n",
       "      <td>2.50</td>\n",
       "      <td>20.00</td>\n",
       "      <td>False</td>\n",
       "      <td>1.0</td>\n",
       "      <td>41.895033</td>\n",
       "      <td>-87.619711</td>\n",
       "      <td>POINT (-87.6197106717 41.8950334495)</td>\n",
       "      <td>42.001698</td>\n",
       "      <td>-87.673574</td>\n",
       "      <td>POINT (-87.6735740325 42.0016981937)</td>\n",
       "    </tr>\n",
       "    <tr>\n",
       "      <th>1</th>\n",
       "      <td>0043023973ca23fb921a20f07e83848779ef317d</td>\n",
       "      <td>2019-01-01</td>\n",
       "      <td>01/01/2019 12:15:00 AM</td>\n",
       "      <td>487.0</td>\n",
       "      <td>2.1</td>\n",
       "      <td>1.703105e+10</td>\n",
       "      <td>1.703106e+10</td>\n",
       "      <td>5.0</td>\n",
       "      <td>6.0</td>\n",
       "      <td>5.0</td>\n",
       "      <td>...</td>\n",
       "      <td>2.50</td>\n",
       "      <td>9.50</td>\n",
       "      <td>False</td>\n",
       "      <td>1.0</td>\n",
       "      <td>41.957736</td>\n",
       "      <td>-87.683718</td>\n",
       "      <td>POINT (-87.683718102 41.957735565)</td>\n",
       "      <td>41.936159</td>\n",
       "      <td>-87.661265</td>\n",
       "      <td>POINT (-87.6612652184 41.936159071)</td>\n",
       "    </tr>\n",
       "    <tr>\n",
       "      <th>2</th>\n",
       "      <td>007948a0627fa8aadde0c951d2b0db3f4f2f9252</td>\n",
       "      <td>2019-01-01</td>\n",
       "      <td>01/01/2019 12:30:00 AM</td>\n",
       "      <td>1298.0</td>\n",
       "      <td>18.6</td>\n",
       "      <td>1.703198e+10</td>\n",
       "      <td>NaN</td>\n",
       "      <td>76.0</td>\n",
       "      <td>NaN</td>\n",
       "      <td>22.5</td>\n",
       "      <td>...</td>\n",
       "      <td>8.25</td>\n",
       "      <td>35.75</td>\n",
       "      <td>False</td>\n",
       "      <td>1.0</td>\n",
       "      <td>41.979071</td>\n",
       "      <td>-87.903040</td>\n",
       "      <td>POINT (-87.9030396611 41.9790708201)</td>\n",
       "      <td>NaN</td>\n",
       "      <td>NaN</td>\n",
       "      <td>NaN</td>\n",
       "    </tr>\n",
       "    <tr>\n",
       "      <th>3</th>\n",
       "      <td>0094daae9466da501bb6a819a91cd4f00e5cda40</td>\n",
       "      <td>2019-01-01</td>\n",
       "      <td>01/01/2019 12:15:00 AM</td>\n",
       "      <td>562.0</td>\n",
       "      <td>2.4</td>\n",
       "      <td>1.703184e+10</td>\n",
       "      <td>1.703122e+10</td>\n",
       "      <td>8.0</td>\n",
       "      <td>22.0</td>\n",
       "      <td>7.5</td>\n",
       "      <td>...</td>\n",
       "      <td>2.50</td>\n",
       "      <td>10.00</td>\n",
       "      <td>False</td>\n",
       "      <td>1.0</td>\n",
       "      <td>41.904935</td>\n",
       "      <td>-87.649907</td>\n",
       "      <td>POINT (-87.6499072264 41.9049353016)</td>\n",
       "      <td>41.915910</td>\n",
       "      <td>-87.683826</td>\n",
       "      <td>POINT (-87.6838259399 41.9159097884)</td>\n",
       "    </tr>\n",
       "    <tr>\n",
       "      <th>4</th>\n",
       "      <td>00987083f23af0936863ebb1e1da1d7c6c0a453e</td>\n",
       "      <td>2019-01-01</td>\n",
       "      <td>01/01/2019 12:15:00 AM</td>\n",
       "      <td>245.0</td>\n",
       "      <td>0.7</td>\n",
       "      <td>1.703183e+10</td>\n",
       "      <td>1.703128e+10</td>\n",
       "      <td>28.0</td>\n",
       "      <td>28.0</td>\n",
       "      <td>2.5</td>\n",
       "      <td>...</td>\n",
       "      <td>2.50</td>\n",
       "      <td>7.00</td>\n",
       "      <td>False</td>\n",
       "      <td>1.0</td>\n",
       "      <td>41.885281</td>\n",
       "      <td>-87.657233</td>\n",
       "      <td>POINT (-87.6572331997 41.8852813201)</td>\n",
       "      <td>41.879255</td>\n",
       "      <td>-87.642649</td>\n",
       "      <td>POINT (-87.642648998 41.8792550844)</td>\n",
       "    </tr>\n",
       "  </tbody>\n",
       "</table>\n",
       "<p>5 rows × 21 columns</p>\n",
       "</div>"
      ],
      "text/plain": [
       "                                    Trip ID Trip Start Timestamp  \\\n",
       "0  003dd08da70461f811e7753fbaec03970414bddf           2019-01-01   \n",
       "1  0043023973ca23fb921a20f07e83848779ef317d           2019-01-01   \n",
       "2  007948a0627fa8aadde0c951d2b0db3f4f2f9252           2019-01-01   \n",
       "3  0094daae9466da501bb6a819a91cd4f00e5cda40           2019-01-01   \n",
       "4  00987083f23af0936863ebb1e1da1d7c6c0a453e           2019-01-01   \n",
       "\n",
       "       Trip End Timestamp  Trip Seconds  Trip Miles  Pickup Census Tract  \\\n",
       "0  01/01/2019 12:30:00 AM        1722.0         9.5         1.703108e+10   \n",
       "1  01/01/2019 12:15:00 AM         487.0         2.1         1.703105e+10   \n",
       "2  01/01/2019 12:30:00 AM        1298.0        18.6         1.703198e+10   \n",
       "3  01/01/2019 12:15:00 AM         562.0         2.4         1.703184e+10   \n",
       "4  01/01/2019 12:15:00 AM         245.0         0.7         1.703183e+10   \n",
       "\n",
       "   Dropoff Census Tract  Pickup Community Area  Dropoff Community Area  Fare  \\\n",
       "0          1.703183e+10                    8.0                     1.0  17.5   \n",
       "1          1.703106e+10                    5.0                     6.0   5.0   \n",
       "2                   NaN                   76.0                     NaN  22.5   \n",
       "3          1.703122e+10                    8.0                    22.0   7.5   \n",
       "4          1.703128e+10                   28.0                    28.0   2.5   \n",
       "\n",
       "   ...  Additional Charges  Trip Total  Shared Trip Authorized Trips Pooled  \\\n",
       "0  ...                2.50       20.00                   False          1.0   \n",
       "1  ...                2.50        9.50                   False          1.0   \n",
       "2  ...                8.25       35.75                   False          1.0   \n",
       "3  ...                2.50       10.00                   False          1.0   \n",
       "4  ...                2.50        7.00                   False          1.0   \n",
       "\n",
       "   Pickup Centroid Latitude  Pickup Centroid Longitude  \\\n",
       "0                 41.895033                 -87.619711   \n",
       "1                 41.957736                 -87.683718   \n",
       "2                 41.979071                 -87.903040   \n",
       "3                 41.904935                 -87.649907   \n",
       "4                 41.885281                 -87.657233   \n",
       "\n",
       "               Pickup Centroid Location Dropoff Centroid Latitude  \\\n",
       "0  POINT (-87.6197106717 41.8950334495)                 42.001698   \n",
       "1    POINT (-87.683718102 41.957735565)                 41.936159   \n",
       "2  POINT (-87.9030396611 41.9790708201)                       NaN   \n",
       "3  POINT (-87.6499072264 41.9049353016)                 41.915910   \n",
       "4  POINT (-87.6572331997 41.8852813201)                 41.879255   \n",
       "\n",
       "   Dropoff Centroid Longitude             Dropoff Centroid Location  \n",
       "0                  -87.673574  POINT (-87.6735740325 42.0016981937)  \n",
       "1                  -87.661265   POINT (-87.6612652184 41.936159071)  \n",
       "2                         NaN                                   NaN  \n",
       "3                  -87.683826  POINT (-87.6838259399 41.9159097884)  \n",
       "4                  -87.642649   POINT (-87.642648998 41.8792550844)  \n",
       "\n",
       "[5 rows x 21 columns]"
      ]
     },
     "execution_count": 5,
     "metadata": {},
     "output_type": "execute_result"
    }
   ],
   "source": [
    "rides_2019.head()"
   ]
  },
  {
   "cell_type": "code",
   "execution_count": 6,
   "id": "192f8f43",
   "metadata": {},
   "outputs": [
    {
     "name": "stdout",
     "output_type": "stream",
     "text": [
      "<class 'pandas.core.frame.DataFrame'>\n",
      "RangeIndex: 15596672 entries, 0 to 15596671\n",
      "Data columns (total 21 columns):\n",
      " #   Column                      Dtype         \n",
      "---  ------                      -----         \n",
      " 0   Trip ID                     object        \n",
      " 1   Trip Start Timestamp        datetime64[ns]\n",
      " 2   Trip End Timestamp          object        \n",
      " 3   Trip Seconds                float64       \n",
      " 4   Trip Miles                  float64       \n",
      " 5   Pickup Census Tract         float64       \n",
      " 6   Dropoff Census Tract        float64       \n",
      " 7   Pickup Community Area       float64       \n",
      " 8   Dropoff Community Area      float64       \n",
      " 9   Fare                        float64       \n",
      " 10  Tip                         float64       \n",
      " 11  Additional Charges          float64       \n",
      " 12  Trip Total                  float64       \n",
      " 13  Shared Trip Authorized      object        \n",
      " 14  Trips Pooled                float64       \n",
      " 15  Pickup Centroid Latitude    float64       \n",
      " 16  Pickup Centroid Longitude   float64       \n",
      " 17  Pickup Centroid Location    object        \n",
      " 18  Dropoff Centroid Latitude   float64       \n",
      " 19  Dropoff Centroid Longitude  float64       \n",
      " 20  Dropoff Centroid Location   object        \n",
      "dtypes: datetime64[ns](1), float64(15), object(5)\n",
      "memory usage: 2.4+ GB\n"
     ]
    }
   ],
   "source": [
    "rides_2019.info()"
   ]
  },
  {
   "cell_type": "code",
   "execution_count": null,
   "id": "ab744c74",
   "metadata": {},
   "outputs": [],
   "source": []
  }
 ],
 "metadata": {
  "kernelspec": {
   "display_name": "Python 3",
   "language": "python",
   "name": "python3"
  },
  "language_info": {
   "codemirror_mode": {
    "name": "ipython",
    "version": 3
   },
   "file_extension": ".py",
   "mimetype": "text/x-python",
   "name": "python",
   "nbconvert_exporter": "python",
   "pygments_lexer": "ipython3",
   "version": "3.8.8"
  }
 },
 "nbformat": 4,
 "nbformat_minor": 5
}
