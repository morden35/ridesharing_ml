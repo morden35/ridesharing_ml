{
 "cells": [
  {
   "cell_type": "markdown",
   "id": "1f930016",
   "metadata": {},
   "source": [
    "# Lasso Regression"
   ]
  },
  {
   "cell_type": "code",
   "execution_count": null,
   "id": "f4f18484-b0b5-467e-9ccc-adc099c6e6df",
   "metadata": {},
   "outputs": [],
   "source": [
    "import pandas as pd\n",
    "import matplotlib.pyplot as plt\n",
    "import geopandas as gpd\n",
    "import numpy as np"
   ]
  },
  {
   "cell_type": "markdown",
   "id": "c080aceb",
   "metadata": {},
   "source": [
    "### Import Datasets and Merge"
   ]
  },
  {
   "cell_type": "code",
   "execution_count": 2,
   "id": "f6128711",
   "metadata": {},
   "outputs": [],
   "source": [
    "# Random 0.003% sample of entire 2019 dataset\n",
    "df_003 = pd.read_csv(\"data/rideshare_003_clean.csv\", compression=\"gzip\", index_col=0)"
   ]
  },
  {
   "cell_type": "code",
   "execution_count": null,
   "id": "59026495",
   "metadata": {},
   "outputs": [],
   "source": [
    "# something happens to pickup_census_tract and dropoff_census_tract when read in..."
   ]
  },
  {
   "cell_type": "code",
   "execution_count": 3,
   "id": "a99e2bd5",
   "metadata": {},
   "outputs": [
    {
     "name": "stdout",
     "output_type": "stream",
     "text": [
      "<class 'pandas.core.frame.DataFrame'>\n",
      "Int64Index: 287763 entries, 11025760 to 85528272\n",
      "Data columns (total 28 columns):\n",
      " #   Column                      Non-Null Count   Dtype  \n",
      "---  ------                      --------------   -----  \n",
      " 0   trip_id                     287763 non-null  object \n",
      " 1   trip_start_timestamp        287763 non-null  object \n",
      " 2   trip_end_timestamp          287763 non-null  object \n",
      " 3   trip_seconds                287763 non-null  float64\n",
      " 4   trip_miles                  287763 non-null  float64\n",
      " 5   pickup_census_tract         223044 non-null  float64\n",
      " 6   dropoff_census_tract        223044 non-null  float64\n",
      " 7   pickup_community_area       287532 non-null  float64\n",
      " 8   dropoff_community_area      287515 non-null  float64\n",
      " 9   fare                        287763 non-null  float64\n",
      " 10  tip                         287763 non-null  float64\n",
      " 11  additional_charges          287763 non-null  float64\n",
      " 12  trip_total                  287763 non-null  float64\n",
      " 13  shared_trip_authorized      287763 non-null  bool   \n",
      " 14  trips_pooled                287763 non-null  int64  \n",
      " 15  pickup_centroid_latitude    287763 non-null  float64\n",
      " 16  pickup_centroid_longitude   287763 non-null  float64\n",
      " 17  pickup_centroid_location    287763 non-null  object \n",
      " 18  dropoff_centroid_latitude   287763 non-null  float64\n",
      " 19  dropoff_centroid_longitude  287763 non-null  float64\n",
      " 20  dropoff_centroid_location   287763 non-null  object \n",
      " 21  date                        287763 non-null  object \n",
      " 22  trip_start_month            287763 non-null  int64  \n",
      " 23  trip_start_weekday          287763 non-null  int64  \n",
      " 24  trip_start_hour             287763 non-null  int64  \n",
      " 25  trip_total_per_mile         287763 non-null  float64\n",
      " 26  trip_total_per_sec          287763 non-null  float64\n",
      " 27  shared_trip_auth_num        287763 non-null  int64  \n",
      "dtypes: bool(1), float64(16), int64(5), object(6)\n",
      "memory usage: 61.7+ MB\n"
     ]
    }
   ],
   "source": [
    "df_003.info()"
   ]
  },
  {
   "cell_type": "code",
   "execution_count": 4,
   "id": "ff40df1b",
   "metadata": {},
   "outputs": [
    {
     "name": "stderr",
     "output_type": "stream",
     "text": [
      "/Users/michelleorden/opt/anaconda3/lib/python3.8/site-packages/IPython/core/interactiveshell.py:3357: FutureWarning: The `op` parameter is deprecated and will be removed in a future release. Please use the `predicate` parameter instead.\n",
      "  if (await self.run_code(code, result,  async_=asy)):\n"
     ]
    }
   ],
   "source": [
    "# join on pickup lat/long\n",
    "cmap = gpd.read_file(\"data/community_area/com_cmap.shp\")\n",
    "gdf_pickup = gpd.GeoDataFrame(df_003, geometry=gpd.points_from_xy(df_003[\"pickup_centroid_longitude\"], \n",
    "                                                       df_003[\"pickup_centroid_latitude\"]), crs=\"EPSG:4326\")\n",
    "gdf_cmap = gpd.sjoin(gdf_pickup, cmap, op='within')"
   ]
  },
  {
   "cell_type": "code",
   "execution_count": 5,
   "id": "648dd617",
   "metadata": {},
   "outputs": [],
   "source": [
    "# rename columns 28-67 to specify _pickup\n",
    "gdf_cmap = gdf_cmap.rename(mapper={col:col+ \"_pickup\" for col in list(gdf_cmap.columns[28:])}, axis=1)"
   ]
  },
  {
   "cell_type": "code",
   "execution_count": 6,
   "id": "786d6509",
   "metadata": {},
   "outputs": [
    {
     "name": "stderr",
     "output_type": "stream",
     "text": [
      "/Users/michelleorden/opt/anaconda3/lib/python3.8/site-packages/IPython/core/interactiveshell.py:3357: FutureWarning: The `op` parameter is deprecated and will be removed in a future release. Please use the `predicate` parameter instead.\n",
      "  if (await self.run_code(code, result,  async_=asy)):\n"
     ]
    }
   ],
   "source": [
    "# join on dropoff lat/long\n",
    "gdf_dropoff = gpd.GeoDataFrame(gdf_cmap, geometry=gpd.points_from_xy(gdf_cmap[\"dropoff_centroid_longitude\"], \n",
    "                                                       gdf_cmap[\"dropoff_centroid_latitude\"]), crs=\"EPSG:4326\")\n",
    "gdf_cmap = gpd.sjoin(gdf_dropoff, cmap, op='within')"
   ]
  },
  {
   "cell_type": "code",
   "execution_count": 7,
   "id": "116b541d",
   "metadata": {},
   "outputs": [],
   "source": [
    "# rename columns 68-108 to specify _pickup\n",
    "gdf_cmap = gdf_cmap.rename(mapper={col:col+ \"_dropoff\" for col in list(gdf_cmap.columns[68:])}, axis=1)"
   ]
  },
  {
   "cell_type": "code",
   "execution_count": 9,
   "id": "77b9c92a",
   "metadata": {},
   "outputs": [
    {
     "data": {
      "text/plain": [
       "(287727, 108)"
      ]
     },
     "execution_count": 9,
     "metadata": {},
     "output_type": "execute_result"
    }
   ],
   "source": [
    "gdf_cmap.shape"
   ]
  },
  {
   "cell_type": "markdown",
   "id": "8908846b",
   "metadata": {},
   "source": [
    "### Drop non-numeric columns"
   ]
  },
  {
   "cell_type": "code",
   "execution_count": 10,
   "id": "edc558b6",
   "metadata": {},
   "outputs": [],
   "source": [
    "# drop columns\n",
    "gdf_cmap_model = gdf_cmap.drop([\"trip_id\", \"index_right_pickup\", \"index_right_dropoff\"], axis=1)"
   ]
  },
  {
   "cell_type": "code",
   "execution_count": 12,
   "id": "df7e5d41",
   "metadata": {},
   "outputs": [],
   "source": [
    "# ,\"Pickup Census Tract\", \"Dropoff Census Tract\",\n",
    "non_num_cols = [\"trip_start_timestamp\",\n",
    "                \"trip_end_timestamp\",\n",
    "                \"geometry_pickup\",\n",
    "                'geometry_dropoff',\n",
    "                'pickup_centroid_location',\n",
    "                'dropoff_centroid_location',\n",
    "                'date',\n",
    "                'geog_pickup',\n",
    "                'geog_dropoff',\n",
    "                'pickup_census_tract', # these two have nas for some reason\n",
    "                'dropoff_census_tract',\n",
    "                \"pickup_community_area\",\n",
    "                \"dropoff_community_area\"]"
   ]
  },
  {
   "cell_type": "code",
   "execution_count": 13,
   "id": "3f54ba89",
   "metadata": {},
   "outputs": [],
   "source": [
    "gdf_cmap_model = gdf_cmap_model.astype({'area_num_pickup' : int, 'area_num_dropoff' : int})                          "
   ]
  },
  {
   "cell_type": "code",
   "execution_count": 14,
   "id": "fad863aa",
   "metadata": {},
   "outputs": [],
   "source": [
    "# drop non-numeric cols\n",
    "gdf_cmap_model = gdf_cmap_model.drop(columns=non_num_cols)"
   ]
  },
  {
   "cell_type": "markdown",
   "id": "7cb96dde",
   "metadata": {},
   "source": [
    "## Split Train Test"
   ]
  },
  {
   "cell_type": "markdown",
   "id": "4487f732",
   "metadata": {},
   "source": [
    "After merging our 2 datasets, the first thing we will do is split into training and test sets. We will not touch the test set until we make final predictions."
   ]
  },
  {
   "cell_type": "code",
   "execution_count": 8,
   "id": "d0d8a0c0",
   "metadata": {},
   "outputs": [],
   "source": [
    "from sklearn.model_selection import train_test_split"
   ]
  },
  {
   "cell_type": "code",
   "execution_count": 89,
   "id": "27bca903",
   "metadata": {},
   "outputs": [],
   "source": [
    "# split df into features and labels\n",
    "X = gdf_cmap_model.drop(columns=[\"shared_trip_auth_num\", \"trips_pooled\", 'shared_trip_authorized'])\n",
    "y = pd.DataFrame(gdf_cmap_model[\"shared_trip_auth_num\"])\n",
    "\n",
    "# split df into train and test\n",
    "X_train, X_test, y_train, y_test = train_test_split(X, y, random_state=0, test_size=0.3)\n",
    "\n",
    "# df that's just training\n",
    "df_train = pd.concat([X_train, y_train], axis=1)"
   ]
  },
  {
   "cell_type": "code",
   "execution_count": 90,
   "id": "1bcd35f5",
   "metadata": {},
   "outputs": [
    {
     "data": {
      "text/plain": [
       "(201408, 89)"
      ]
     },
     "execution_count": 90,
     "metadata": {},
     "output_type": "execute_result"
    }
   ],
   "source": [
    "X_train.shape"
   ]
  },
  {
   "cell_type": "markdown",
   "id": "aa1659e7",
   "metadata": {},
   "source": [
    "Our training dataset has 89 numeric columns. We will use these to predict the column shared_trip_auth_num."
   ]
  },
  {
   "cell_type": "markdown",
   "id": "035d9557",
   "metadata": {},
   "source": [
    "## Lasso Regression  - All Features"
   ]
  },
  {
   "cell_type": "markdown",
   "id": "44b08c9f",
   "metadata": {},
   "source": [
    "Make a simple Pipeline"
   ]
  },
  {
   "cell_type": "code",
   "execution_count": 58,
   "id": "4eef7ab3",
   "metadata": {},
   "outputs": [],
   "source": [
    "from sklearn.preprocessing import StandardScaler\n",
    "from sklearn.pipeline import Pipeline\n",
    "from sklearn.model_selection import GridSearchCV\n",
    "from sklearn.linear_model import Lasso\n",
    "from sklearn.metrics import mean_squared_error"
   ]
  },
  {
   "cell_type": "code",
   "execution_count": 59,
   "id": "074ddacd",
   "metadata": {},
   "outputs": [],
   "source": [
    "pipeline = Pipeline([('scaler', StandardScaler()),\n",
    "                    ('model', Lasso())])"
   ]
  },
  {
   "cell_type": "markdown",
   "id": "af524dfe",
   "metadata": {},
   "source": [
    "Cross Validation"
   ]
  },
  {
   "cell_type": "code",
   "execution_count": 87,
   "id": "6b673c72",
   "metadata": {},
   "outputs": [],
   "source": [
    "param_grid = {'model__alpha': np.arange(0.1, 10.1, 0.2)}"
   ]
  },
  {
   "cell_type": "code",
   "execution_count": null,
   "id": "aec55cbe",
   "metadata": {},
   "outputs": [],
   "source": [
    "# play with different ways of measuring error\n",
    "# explain what happens when we change alpha"
   ]
  },
  {
   "cell_type": "code",
   "execution_count": 67,
   "id": "4a477326",
   "metadata": {},
   "outputs": [],
   "source": [
    "scoring_metrics = [\"neg_mean_squared_error\", \"r2\", \"neg_mean_absolute_error\"]"
   ]
  },
  {
   "cell_type": "code",
   "execution_count": 92,
   "id": "abcbe8ed",
   "metadata": {},
   "outputs": [
    {
     "data": {
      "text/plain": [
       "GridSearchCV(estimator=Pipeline(steps=[('scaler', StandardScaler()),\n",
       "                                       ('model', Lasso())]),\n",
       "             param_grid={'model__alpha': array([0.1, 0.3, 0.5, 0.7, 0.9, 1.1, 1.3, 1.5, 1.7, 1.9, 2.1, 2.3, 2.5,\n",
       "       2.7, 2.9, 3.1, 3.3, 3.5, 3.7, 3.9, 4.1, 4.3, 4.5, 4.7, 4.9, 5.1,\n",
       "       5.3, 5.5, 5.7, 5.9, 6.1, 6.3, 6.5, 6.7, 6.9, 7.1, 7.3, 7.5, 7.7,\n",
       "       7.9, 8.1, 8.3, 8.5, 8.7, 8.9, 9.1, 9.3, 9.5, 9.7, 9.9])},\n",
       "             refit='r2',\n",
       "             scoring=['neg_mean_squared_error', 'r2',\n",
       "                      'neg_mean_absolute_error'])"
      ]
     },
     "execution_count": 92,
     "metadata": {},
     "output_type": "execute_result"
    }
   ],
   "source": [
    "grid_search = GridSearchCV(pipeline, param_grid, scoring=scoring_metrics, refit = \"r2\")\n",
    "grid_search.fit(X_train, y_train)"
   ]
  },
  {
   "cell_type": "code",
   "execution_count": 94,
   "id": "5bc3a295",
   "metadata": {},
   "outputs": [
    {
     "data": {
      "text/plain": [
       "Pipeline(steps=[('scaler', StandardScaler()), ('model', Lasso(alpha=0.1))])"
      ]
     },
     "execution_count": 94,
     "metadata": {},
     "output_type": "execute_result"
    }
   ],
   "source": [
    "grid_search.best_estimator_"
   ]
  },
  {
   "cell_type": "markdown",
   "id": "a9fd956e",
   "metadata": {},
   "source": [
    "Using the best model"
   ]
  },
  {
   "cell_type": "code",
   "execution_count": 95,
   "id": "b2b89313",
   "metadata": {},
   "outputs": [],
   "source": [
    "lasso_reg = grid_search.best_estimator_"
   ]
  },
  {
   "cell_type": "code",
   "execution_count": 98,
   "id": "8842aa88",
   "metadata": {},
   "outputs": [
    {
     "data": {
      "text/plain": [
       "Pipeline(steps=[('scaler', StandardScaler()), ('model', Lasso(alpha=0.1))])"
      ]
     },
     "execution_count": 98,
     "metadata": {},
     "output_type": "execute_result"
    }
   ],
   "source": [
    "lasso_reg.fit(X_train, y_train)"
   ]
  },
  {
   "cell_type": "code",
   "execution_count": 99,
   "id": "409f64b8",
   "metadata": {},
   "outputs": [],
   "source": [
    "y_pred = lasso_reg.predict(X_test)"
   ]
  },
  {
   "cell_type": "code",
   "execution_count": 100,
   "id": "63e0bd5c",
   "metadata": {},
   "outputs": [],
   "source": [
    "# need to get categorical label from numeric\n",
    "y_pred = np.sign(y_pred)"
   ]
  },
  {
   "cell_type": "code",
   "execution_count": 101,
   "id": "377f81f1",
   "metadata": {},
   "outputs": [],
   "source": [
    "err = mean_squared_error(np.array(y_test), y_pred)"
   ]
  },
  {
   "cell_type": "code",
   "execution_count": 102,
   "id": "7640718e",
   "metadata": {},
   "outputs": [
    {
     "data": {
      "text/plain": [
       "0.7467649069150477"
      ]
     },
     "execution_count": 102,
     "metadata": {},
     "output_type": "execute_result"
    }
   ],
   "source": [
    "err"
   ]
  },
  {
   "cell_type": "code",
   "execution_count": 103,
   "id": "a4c13817",
   "metadata": {},
   "outputs": [
    {
     "data": {
      "text/plain": [
       "89"
      ]
     },
     "execution_count": 103,
     "metadata": {},
     "output_type": "execute_result"
    }
   ],
   "source": [
    "lasso_reg.n_features_in_"
   ]
  },
  {
   "cell_type": "code",
   "execution_count": 104,
   "id": "60735571",
   "metadata": {},
   "outputs": [],
   "source": [
    "features = np.array(X_train.columns)"
   ]
  },
  {
   "cell_type": "code",
   "execution_count": 113,
   "id": "47650b5d",
   "metadata": {},
   "outputs": [],
   "source": [
    "coefficients = lasso_reg[1].coef_"
   ]
  },
  {
   "cell_type": "code",
   "execution_count": 114,
   "id": "46325c55",
   "metadata": {},
   "outputs": [],
   "source": [
    "importance = np.abs(coefficients)"
   ]
  },
  {
   "cell_type": "code",
   "execution_count": 152,
   "id": "d6d47b42",
   "metadata": {},
   "outputs": [],
   "source": [
    "feat_imp = pd.DataFrame(data=features[importance > 0.001], columns=[\"feature\"])"
   ]
  },
  {
   "cell_type": "code",
   "execution_count": 154,
   "id": "0da7100a",
   "metadata": {},
   "outputs": [],
   "source": [
    "feat_imp['coeff'] = importance[importance > 0.001]"
   ]
  },
  {
   "cell_type": "code",
   "execution_count": 157,
   "id": "152feb4a",
   "metadata": {},
   "outputs": [
    {
     "data": {
      "text/html": [
       "<div>\n",
       "<style scoped>\n",
       "    .dataframe tbody tr th:only-of-type {\n",
       "        vertical-align: middle;\n",
       "    }\n",
       "\n",
       "    .dataframe tbody tr th {\n",
       "        vertical-align: top;\n",
       "    }\n",
       "\n",
       "    .dataframe thead th {\n",
       "        text-align: right;\n",
       "    }\n",
       "</style>\n",
       "<table border=\"1\" class=\"dataframe\">\n",
       "  <thead>\n",
       "    <tr style=\"text-align: right;\">\n",
       "      <th></th>\n",
       "      <th>feature</th>\n",
       "      <th>coeff</th>\n",
       "    </tr>\n",
       "  </thead>\n",
       "  <tbody>\n",
       "    <tr>\n",
       "      <th>1</th>\n",
       "      <td>additional_charges</td>\n",
       "      <td>0.212610</td>\n",
       "    </tr>\n",
       "    <tr>\n",
       "      <th>0</th>\n",
       "      <td>trip_seconds</td>\n",
       "      <td>0.050661</td>\n",
       "    </tr>\n",
       "    <tr>\n",
       "      <th>2</th>\n",
       "      <td>trip_total_per_mile</td>\n",
       "      <td>0.049642</td>\n",
       "    </tr>\n",
       "    <tr>\n",
       "      <th>6</th>\n",
       "      <td>perc_bach_dropoff</td>\n",
       "      <td>0.040477</td>\n",
       "    </tr>\n",
       "    <tr>\n",
       "      <th>4</th>\n",
       "      <td>perc_bach_pickup</td>\n",
       "      <td>0.028669</td>\n",
       "    </tr>\n",
       "    <tr>\n",
       "      <th>3</th>\n",
       "      <td>perc_emp_pickup</td>\n",
       "      <td>0.008187</td>\n",
       "    </tr>\n",
       "    <tr>\n",
       "      <th>5</th>\n",
       "      <td>perc_emp_dropoff</td>\n",
       "      <td>0.003485</td>\n",
       "    </tr>\n",
       "  </tbody>\n",
       "</table>\n",
       "</div>"
      ],
      "text/plain": [
       "               feature     coeff\n",
       "1   additional_charges  0.212610\n",
       "0         trip_seconds  0.050661\n",
       "2  trip_total_per_mile  0.049642\n",
       "6    perc_bach_dropoff  0.040477\n",
       "4     perc_bach_pickup  0.028669\n",
       "3      perc_emp_pickup  0.008187\n",
       "5     perc_emp_dropoff  0.003485"
      ]
     },
     "execution_count": 157,
     "metadata": {},
     "output_type": "execute_result"
    }
   ],
   "source": [
    "feat_imp.sort_values(by='coeff', ascending=False)"
   ]
  },
  {
   "cell_type": "code",
   "execution_count": 158,
   "id": "7ea4bc47",
   "metadata": {},
   "outputs": [
    {
     "data": {
      "text/plain": [
       "array([-0.61874404])"
      ]
     },
     "execution_count": 158,
     "metadata": {},
     "output_type": "execute_result"
    }
   ],
   "source": [
    "lasso_reg[1].intercept_"
   ]
  },
  {
   "cell_type": "code",
   "execution_count": null,
   "id": "dd4c60c4",
   "metadata": {},
   "outputs": [],
   "source": [
    "# plot y_test and y_pred by pikcup_location"
   ]
  },
  {
   "cell_type": "markdown",
   "id": "7cc678d5",
   "metadata": {},
   "source": [
    "## Lasso Regression  - Hand Picked Features"
   ]
  },
  {
   "cell_type": "markdown",
   "id": "bdff307e",
   "metadata": {},
   "source": [
    "Out of the 89 features, many are related to one another (some are simple duplicates with a different scale, for example hours vs minutes). I will now run that same Lasso Regression from above, but with a hand-picked selection of unique features."
   ]
  },
  {
   "cell_type": "code",
   "execution_count": 159,
   "id": "0ce7b217",
   "metadata": {},
   "outputs": [],
   "source": [
    "X_new = gdf_cmap_model.drop(columns=['trip_seconds',\n",
    "                                 'trip_miles',\n",
    "                                 'fare',\n",
    "                                 'tip',\n",
    "                                 'additional_charges',\n",
    "                                 'trip_total',\n",
    "                                 'shared_trip_authorized', 'trips_pooled',\n",
    "                                 'pickup_centroid_latitude',\n",
    "                                 'pickup_centroid_longitude',\n",
    "                                 'dropoff_centroid_latitude',\n",
    "                                 'dropoff_centroid_longitude', 'trip_start_month',\n",
    "                                 \"shared_trip_auth_num\"])"
   ]
  },
  {
   "cell_type": "code",
   "execution_count": 160,
   "id": "3d0a46c2",
   "metadata": {},
   "outputs": [],
   "source": [
    "# split df into features and labels\n",
    "y_new = pd.DataFrame(gdf_cmap_model[\"shared_trip_auth_num\"])\n",
    "\n",
    "# split df into train and test\n",
    "X_train_new, X_test_new, y_train_new, y_test_new = train_test_split(X_new, y_new, random_state=0, test_size=0.3)"
   ]
  },
  {
   "cell_type": "code",
   "execution_count": 161,
   "id": "2857984a",
   "metadata": {},
   "outputs": [
    {
     "data": {
      "text/plain": [
       "(201408, 78)"
      ]
     },
     "execution_count": 161,
     "metadata": {},
     "output_type": "execute_result"
    }
   ],
   "source": [
    "X_train_new.shape"
   ]
  },
  {
   "cell_type": "markdown",
   "id": "610a3b6d",
   "metadata": {},
   "source": [
    "Cross Validation"
   ]
  },
  {
   "cell_type": "code",
   "execution_count": 162,
   "id": "4b0b8e87",
   "metadata": {},
   "outputs": [
    {
     "data": {
      "text/plain": [
       "GridSearchCV(estimator=Pipeline(steps=[('scaler', StandardScaler()),\n",
       "                                       ('model', Lasso())]),\n",
       "             param_grid={'model__alpha': array([0.1, 0.3, 0.5, 0.7, 0.9, 1.1, 1.3, 1.5, 1.7, 1.9, 2.1, 2.3, 2.5,\n",
       "       2.7, 2.9, 3.1, 3.3, 3.5, 3.7, 3.9, 4.1, 4.3, 4.5, 4.7, 4.9, 5.1,\n",
       "       5.3, 5.5, 5.7, 5.9, 6.1, 6.3, 6.5, 6.7, 6.9, 7.1, 7.3, 7.5, 7.7,\n",
       "       7.9, 8.1, 8.3, 8.5, 8.7, 8.9, 9.1, 9.3, 9.5, 9.7, 9.9])},\n",
       "             refit='r2',\n",
       "             scoring=['neg_mean_squared_error', 'r2',\n",
       "                      'neg_mean_absolute_error'])"
      ]
     },
     "execution_count": 162,
     "metadata": {},
     "output_type": "execute_result"
    }
   ],
   "source": [
    "grid_search.fit(X_train_new, y_train_new)"
   ]
  },
  {
   "cell_type": "code",
   "execution_count": 163,
   "id": "e4115cbd",
   "metadata": {},
   "outputs": [
    {
     "data": {
      "text/plain": [
       "Pipeline(steps=[('scaler', StandardScaler()), ('model', Lasso(alpha=0.1))])"
      ]
     },
     "execution_count": 163,
     "metadata": {},
     "output_type": "execute_result"
    }
   ],
   "source": [
    "grid_search.best_estimator_"
   ]
  },
  {
   "cell_type": "code",
   "execution_count": 164,
   "id": "012d11a2",
   "metadata": {},
   "outputs": [],
   "source": [
    "lasso_reg_new = grid_search.best_estimator_"
   ]
  },
  {
   "cell_type": "markdown",
   "id": "91bd288b",
   "metadata": {},
   "source": [
    "Using the best model"
   ]
  },
  {
   "cell_type": "code",
   "execution_count": 165,
   "id": "7bce58f8",
   "metadata": {},
   "outputs": [
    {
     "data": {
      "text/plain": [
       "Pipeline(steps=[('scaler', StandardScaler()), ('model', Lasso(alpha=0.1))])"
      ]
     },
     "execution_count": 165,
     "metadata": {},
     "output_type": "execute_result"
    }
   ],
   "source": [
    "lasso_reg_new.fit(X_train_new, y_train_new)"
   ]
  },
  {
   "cell_type": "code",
   "execution_count": 166,
   "id": "81fbcfdc",
   "metadata": {},
   "outputs": [],
   "source": [
    "y_pred_new = lasso_reg_new.predict(X_test_new)"
   ]
  },
  {
   "cell_type": "code",
   "execution_count": 167,
   "id": "de419b7b",
   "metadata": {},
   "outputs": [],
   "source": [
    "err_new = mean_squared_error(np.array(y_test_new), y_pred_new)"
   ]
  },
  {
   "cell_type": "code",
   "execution_count": 168,
   "id": "c330d2fd",
   "metadata": {},
   "outputs": [
    {
     "data": {
      "text/plain": [
       "0.5680535611925737"
      ]
     },
     "execution_count": 168,
     "metadata": {},
     "output_type": "execute_result"
    }
   ],
   "source": [
    "err_new"
   ]
  },
  {
   "cell_type": "code",
   "execution_count": 169,
   "id": "9fc13109",
   "metadata": {},
   "outputs": [],
   "source": [
    "features_new = np.array(X_train_new.columns)"
   ]
  },
  {
   "cell_type": "code",
   "execution_count": 171,
   "id": "bf609c5f",
   "metadata": {},
   "outputs": [],
   "source": [
    "coefficients_new = lasso_reg_new[1].coef_"
   ]
  },
  {
   "cell_type": "code",
   "execution_count": 172,
   "id": "9e388ca8",
   "metadata": {},
   "outputs": [],
   "source": [
    "importance_new = np.abs(coefficients_new)"
   ]
  },
  {
   "cell_type": "code",
   "execution_count": 173,
   "id": "0221d6ce",
   "metadata": {},
   "outputs": [],
   "source": [
    "feat_imp_new = pd.DataFrame(data=features_new[importance_new > 0.001], columns=[\"feature\"])"
   ]
  },
  {
   "cell_type": "code",
   "execution_count": 174,
   "id": "6b0f018b",
   "metadata": {},
   "outputs": [],
   "source": [
    "feat_imp_new['coeff'] = importance_new[importance_new > 0.001]"
   ]
  },
  {
   "cell_type": "code",
   "execution_count": 175,
   "id": "c064e792",
   "metadata": {},
   "outputs": [
    {
     "data": {
      "text/html": [
       "<div>\n",
       "<style scoped>\n",
       "    .dataframe tbody tr th:only-of-type {\n",
       "        vertical-align: middle;\n",
       "    }\n",
       "\n",
       "    .dataframe tbody tr th {\n",
       "        vertical-align: top;\n",
       "    }\n",
       "\n",
       "    .dataframe thead th {\n",
       "        text-align: right;\n",
       "    }\n",
       "</style>\n",
       "<table border=\"1\" class=\"dataframe\">\n",
       "  <thead>\n",
       "    <tr style=\"text-align: right;\">\n",
       "      <th></th>\n",
       "      <th>feature</th>\n",
       "      <th>coeff</th>\n",
       "    </tr>\n",
       "  </thead>\n",
       "  <tbody>\n",
       "    <tr>\n",
       "      <th>0</th>\n",
       "      <td>trip_total_per_mile</td>\n",
       "      <td>0.064994</td>\n",
       "    </tr>\n",
       "    <tr>\n",
       "      <th>3</th>\n",
       "      <td>perc_white_dropoff</td>\n",
       "      <td>0.054321</td>\n",
       "    </tr>\n",
       "    <tr>\n",
       "      <th>1</th>\n",
       "      <td>perc_white_pickup</td>\n",
       "      <td>0.040187</td>\n",
       "    </tr>\n",
       "    <tr>\n",
       "      <th>2</th>\n",
       "      <td>perc_tot_c_pickup</td>\n",
       "      <td>0.004490</td>\n",
       "    </tr>\n",
       "  </tbody>\n",
       "</table>\n",
       "</div>"
      ],
      "text/plain": [
       "               feature     coeff\n",
       "0  trip_total_per_mile  0.064994\n",
       "3   perc_white_dropoff  0.054321\n",
       "1    perc_white_pickup  0.040187\n",
       "2    perc_tot_c_pickup  0.004490"
      ]
     },
     "execution_count": 175,
     "metadata": {},
     "output_type": "execute_result"
    }
   ],
   "source": [
    "feat_imp_new.sort_values(by='coeff', ascending=False)"
   ]
  },
  {
   "cell_type": "code",
   "execution_count": 176,
   "id": "89b59c98",
   "metadata": {},
   "outputs": [
    {
     "data": {
      "text/plain": [
       "array([-0.61874404])"
      ]
     },
     "execution_count": 176,
     "metadata": {},
     "output_type": "execute_result"
    }
   ],
   "source": [
    "lasso_reg_new[1].intercept_"
   ]
  }
 ],
 "metadata": {
  "kernelspec": {
   "display_name": "Python 3",
   "language": "python",
   "name": "python3"
  },
  "language_info": {
   "codemirror_mode": {
    "name": "ipython",
    "version": 3
   },
   "file_extension": ".py",
   "mimetype": "text/x-python",
   "name": "python",
   "nbconvert_exporter": "python",
   "pygments_lexer": "ipython3",
   "version": "3.8.8"
  }
 },
 "nbformat": 4,
 "nbformat_minor": 5
}
