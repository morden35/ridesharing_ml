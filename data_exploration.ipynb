{
 "cells": [
  {
   "cell_type": "code",
   "execution_count": 1,
   "id": "fa49a9c3",
   "metadata": {},
   "outputs": [],
   "source": [
    "import pandas as pd\n",
    "from sodapy import Socrata\n",
    "import matplotlib.pyplot as plt"
   ]
  },
  {
   "cell_type": "markdown",
   "id": "bde01deb",
   "metadata": {},
   "source": [
    "### Initial Data Exploration"
   ]
  },
  {
   "cell_type": "code",
   "execution_count": 5,
   "id": "36e49494",
   "metadata": {},
   "outputs": [],
   "source": [
    "# let's start exploring the first 5000 rows of data"
   ]
  },
  {
   "cell_type": "code",
   "execution_count": 6,
   "id": "288dd87d",
   "metadata": {},
   "outputs": [],
   "source": [
    "client = Socrata(\"data.cityofchicago.org\", \"8BNUFOmlPGswPDZg8ZVjP6vUt\")"
   ]
  },
  {
   "cell_type": "code",
   "execution_count": 8,
   "id": "1c7f9e8e",
   "metadata": {},
   "outputs": [],
   "source": [
    "results_5000 = client.get(\"iu3g-qa69\", limit=5000, offset=0)"
   ]
  },
  {
   "cell_type": "code",
   "execution_count": 11,
   "id": "763e70b1",
   "metadata": {},
   "outputs": [],
   "source": [
    "results_5000_df = pd.DataFrame.from_records(results_5000)"
   ]
  },
  {
   "cell_type": "code",
   "execution_count": 12,
   "id": "76abe454",
   "metadata": {},
   "outputs": [
    {
     "data": {
      "text/html": [
       "<div>\n",
       "<style scoped>\n",
       "    .dataframe tbody tr th:only-of-type {\n",
       "        vertical-align: middle;\n",
       "    }\n",
       "\n",
       "    .dataframe tbody tr th {\n",
       "        vertical-align: top;\n",
       "    }\n",
       "\n",
       "    .dataframe thead th {\n",
       "        text-align: right;\n",
       "    }\n",
       "</style>\n",
       "<table border=\"1\" class=\"dataframe\">\n",
       "  <thead>\n",
       "    <tr style=\"text-align: right;\">\n",
       "      <th></th>\n",
       "      <th>trip_id</th>\n",
       "      <th>trip_start_timestamp</th>\n",
       "      <th>trip_end_timestamp</th>\n",
       "      <th>trip_seconds</th>\n",
       "      <th>trip_miles</th>\n",
       "      <th>pickup_census_tract</th>\n",
       "      <th>dropoff_census_tract</th>\n",
       "      <th>pickup_community_area</th>\n",
       "      <th>dropoff_community_area</th>\n",
       "      <th>fare</th>\n",
       "      <th>...</th>\n",
       "      <th>additional_charges</th>\n",
       "      <th>trip_total</th>\n",
       "      <th>shared_trip_authorized</th>\n",
       "      <th>trips_pooled</th>\n",
       "      <th>pickup_centroid_latitude</th>\n",
       "      <th>pickup_centroid_longitude</th>\n",
       "      <th>pickup_centroid_location</th>\n",
       "      <th>dropoff_centroid_latitude</th>\n",
       "      <th>dropoff_centroid_longitude</th>\n",
       "      <th>dropoff_centroid_location</th>\n",
       "    </tr>\n",
       "  </thead>\n",
       "  <tbody>\n",
       "    <tr>\n",
       "      <th>0</th>\n",
       "      <td>003dd08da70461f811e7753fbaec03970414bddf</td>\n",
       "      <td>2019-01-01T00:00:00.000</td>\n",
       "      <td>2019-01-01T00:30:00.000</td>\n",
       "      <td>1722</td>\n",
       "      <td>9.51345594864</td>\n",
       "      <td>17031081401</td>\n",
       "      <td>17031830600</td>\n",
       "      <td>8</td>\n",
       "      <td>1</td>\n",
       "      <td>17.5</td>\n",
       "      <td>...</td>\n",
       "      <td>2.5</td>\n",
       "      <td>20</td>\n",
       "      <td>False</td>\n",
       "      <td>1</td>\n",
       "      <td>41.8950334495</td>\n",
       "      <td>-87.6197106717</td>\n",
       "      <td>{'type': 'Point', 'coordinates': [-87.61971067...</td>\n",
       "      <td>42.0016981937</td>\n",
       "      <td>-87.6735740325</td>\n",
       "      <td>{'type': 'Point', 'coordinates': [-87.67357403...</td>\n",
       "    </tr>\n",
       "    <tr>\n",
       "      <th>1</th>\n",
       "      <td>0043023973ca23fb921a20f07e83848779ef317d</td>\n",
       "      <td>2019-01-01T00:00:00.000</td>\n",
       "      <td>2019-01-01T00:15:00.000</td>\n",
       "      <td>487</td>\n",
       "      <td>2.1004298848</td>\n",
       "      <td>17031050200</td>\n",
       "      <td>17031062800</td>\n",
       "      <td>5</td>\n",
       "      <td>6</td>\n",
       "      <td>5</td>\n",
       "      <td>...</td>\n",
       "      <td>2.5</td>\n",
       "      <td>9.5</td>\n",
       "      <td>False</td>\n",
       "      <td>1</td>\n",
       "      <td>41.957735565</td>\n",
       "      <td>-87.683718102</td>\n",
       "      <td>{'type': 'Point', 'coordinates': [-87.68371810...</td>\n",
       "      <td>41.936159071</td>\n",
       "      <td>-87.6612652184</td>\n",
       "      <td>{'type': 'Point', 'coordinates': [-87.66126521...</td>\n",
       "    </tr>\n",
       "    <tr>\n",
       "      <th>2</th>\n",
       "      <td>007948a0627fa8aadde0c951d2b0db3f4f2f9252</td>\n",
       "      <td>2019-01-01T00:00:00.000</td>\n",
       "      <td>2019-01-01T00:30:00.000</td>\n",
       "      <td>1298</td>\n",
       "      <td>18.6137806127669</td>\n",
       "      <td>17031980000</td>\n",
       "      <td>NaN</td>\n",
       "      <td>76</td>\n",
       "      <td>NaN</td>\n",
       "      <td>22.5</td>\n",
       "      <td>...</td>\n",
       "      <td>8.25</td>\n",
       "      <td>35.75</td>\n",
       "      <td>False</td>\n",
       "      <td>1</td>\n",
       "      <td>41.9790708201</td>\n",
       "      <td>-87.9030396611</td>\n",
       "      <td>{'type': 'Point', 'coordinates': [-87.90303966...</td>\n",
       "      <td>NaN</td>\n",
       "      <td>NaN</td>\n",
       "      <td>NaN</td>\n",
       "    </tr>\n",
       "    <tr>\n",
       "      <th>3</th>\n",
       "      <td>0094daae9466da501bb6a819a91cd4f00e5cda40</td>\n",
       "      <td>2019-01-01T00:00:00.000</td>\n",
       "      <td>2019-01-01T00:15:00.000</td>\n",
       "      <td>562</td>\n",
       "      <td>2.3521457199572</td>\n",
       "      <td>17031842200</td>\n",
       "      <td>17031222200</td>\n",
       "      <td>8</td>\n",
       "      <td>22</td>\n",
       "      <td>7.5</td>\n",
       "      <td>...</td>\n",
       "      <td>2.5</td>\n",
       "      <td>10</td>\n",
       "      <td>False</td>\n",
       "      <td>1</td>\n",
       "      <td>41.9049353016</td>\n",
       "      <td>-87.6499072264</td>\n",
       "      <td>{'type': 'Point', 'coordinates': [-87.64990722...</td>\n",
       "      <td>41.9159097884</td>\n",
       "      <td>-87.6838259399</td>\n",
       "      <td>{'type': 'Point', 'coordinates': [-87.68382593...</td>\n",
       "    </tr>\n",
       "    <tr>\n",
       "      <th>4</th>\n",
       "      <td>00987083f23af0936863ebb1e1da1d7c6c0a453e</td>\n",
       "      <td>2019-01-01T00:00:00.000</td>\n",
       "      <td>2019-01-01T00:15:00.000</td>\n",
       "      <td>245</td>\n",
       "      <td>0.70044422028804</td>\n",
       "      <td>17031833000</td>\n",
       "      <td>17031281900</td>\n",
       "      <td>28</td>\n",
       "      <td>28</td>\n",
       "      <td>2.5</td>\n",
       "      <td>...</td>\n",
       "      <td>2.5</td>\n",
       "      <td>7</td>\n",
       "      <td>False</td>\n",
       "      <td>1</td>\n",
       "      <td>41.8852813201</td>\n",
       "      <td>-87.6572331997</td>\n",
       "      <td>{'type': 'Point', 'coordinates': [-87.65723319...</td>\n",
       "      <td>41.8792550844</td>\n",
       "      <td>-87.642648998</td>\n",
       "      <td>{'type': 'Point', 'coordinates': [-87.64264899...</td>\n",
       "    </tr>\n",
       "  </tbody>\n",
       "</table>\n",
       "<p>5 rows × 21 columns</p>\n",
       "</div>"
      ],
      "text/plain": [
       "                                    trip_id     trip_start_timestamp  \\\n",
       "0  003dd08da70461f811e7753fbaec03970414bddf  2019-01-01T00:00:00.000   \n",
       "1  0043023973ca23fb921a20f07e83848779ef317d  2019-01-01T00:00:00.000   \n",
       "2  007948a0627fa8aadde0c951d2b0db3f4f2f9252  2019-01-01T00:00:00.000   \n",
       "3  0094daae9466da501bb6a819a91cd4f00e5cda40  2019-01-01T00:00:00.000   \n",
       "4  00987083f23af0936863ebb1e1da1d7c6c0a453e  2019-01-01T00:00:00.000   \n",
       "\n",
       "        trip_end_timestamp trip_seconds        trip_miles pickup_census_tract  \\\n",
       "0  2019-01-01T00:30:00.000         1722     9.51345594864         17031081401   \n",
       "1  2019-01-01T00:15:00.000          487      2.1004298848         17031050200   \n",
       "2  2019-01-01T00:30:00.000         1298  18.6137806127669         17031980000   \n",
       "3  2019-01-01T00:15:00.000          562   2.3521457199572         17031842200   \n",
       "4  2019-01-01T00:15:00.000          245  0.70044422028804         17031833000   \n",
       "\n",
       "  dropoff_census_tract pickup_community_area dropoff_community_area  fare  \\\n",
       "0          17031830600                     8                      1  17.5   \n",
       "1          17031062800                     5                      6     5   \n",
       "2                  NaN                    76                    NaN  22.5   \n",
       "3          17031222200                     8                     22   7.5   \n",
       "4          17031281900                    28                     28   2.5   \n",
       "\n",
       "   ... additional_charges trip_total shared_trip_authorized  trips_pooled  \\\n",
       "0  ...                2.5         20                  False             1   \n",
       "1  ...                2.5        9.5                  False             1   \n",
       "2  ...               8.25      35.75                  False             1   \n",
       "3  ...                2.5         10                  False             1   \n",
       "4  ...                2.5          7                  False             1   \n",
       "\n",
       "  pickup_centroid_latitude pickup_centroid_longitude  \\\n",
       "0            41.8950334495            -87.6197106717   \n",
       "1             41.957735565             -87.683718102   \n",
       "2            41.9790708201            -87.9030396611   \n",
       "3            41.9049353016            -87.6499072264   \n",
       "4            41.8852813201            -87.6572331997   \n",
       "\n",
       "                            pickup_centroid_location  \\\n",
       "0  {'type': 'Point', 'coordinates': [-87.61971067...   \n",
       "1  {'type': 'Point', 'coordinates': [-87.68371810...   \n",
       "2  {'type': 'Point', 'coordinates': [-87.90303966...   \n",
       "3  {'type': 'Point', 'coordinates': [-87.64990722...   \n",
       "4  {'type': 'Point', 'coordinates': [-87.65723319...   \n",
       "\n",
       "  dropoff_centroid_latitude dropoff_centroid_longitude  \\\n",
       "0             42.0016981937             -87.6735740325   \n",
       "1              41.936159071             -87.6612652184   \n",
       "2                       NaN                        NaN   \n",
       "3             41.9159097884             -87.6838259399   \n",
       "4             41.8792550844              -87.642648998   \n",
       "\n",
       "                           dropoff_centroid_location  \n",
       "0  {'type': 'Point', 'coordinates': [-87.67357403...  \n",
       "1  {'type': 'Point', 'coordinates': [-87.66126521...  \n",
       "2                                                NaN  \n",
       "3  {'type': 'Point', 'coordinates': [-87.68382593...  \n",
       "4  {'type': 'Point', 'coordinates': [-87.64264899...  \n",
       "\n",
       "[5 rows x 21 columns]"
      ]
     },
     "execution_count": 12,
     "metadata": {},
     "output_type": "execute_result"
    }
   ],
   "source": [
    "results_5000_df.head()"
   ]
  },
  {
   "cell_type": "code",
   "execution_count": null,
   "id": "8335567f",
   "metadata": {},
   "outputs": [],
   "source": [
    "'''\n",
    "{trip_id: object,\n",
    "trip_start_timestamp: object,\n",
    "trip_end_timestamp: object,\n",
    "trip_seconds: int,\n",
    "trip_miles: float,\n",
    "pickup_census_tract: object,\n",
    "dropoff_census_tract: object,\n",
    "pickup_community_area: float,\n",
    "dropoff_community_area: float,\n",
    "fare: float,\n",
    "tip: float,\n",
    "additional_charges: float,\n",
    "trip_total: float,\n",
    "shared_trip_authorized: bool,\n",
    "trips_pooled: int,\n",
    "pickup_centroid_latitude: object,\n",
    "pickup_centroid_longitude: object,\n",
    "pickup_centroid_location: object,\n",
    "dropoff_centroid_latitude: object,\n",
    "dropoff_centroid_longitude: object,\n",
    "dropoff_centroid_location: object}\n",
    "'''"
   ]
  },
  {
   "cell_type": "code",
   "execution_count": 23,
   "id": "206e5aff",
   "metadata": {},
   "outputs": [],
   "source": [
    "results_5000_df[\"trip_seconds\"] = results_5000_df[\"trip_seconds\"].astype(\"int\")"
   ]
  },
  {
   "cell_type": "code",
   "execution_count": 25,
   "id": "9e056a1c",
   "metadata": {},
   "outputs": [],
   "source": [
    "results_5000_df[\"trip_miles\"] = results_5000_df[\"trip_miles\"].astype(\"float\")"
   ]
  },
  {
   "cell_type": "code",
   "execution_count": 27,
   "id": "b6386e08",
   "metadata": {},
   "outputs": [],
   "source": [
    "results_5000_df[\"pickup_community_area\"] = results_5000_df[\"pickup_community_area\"].astype(\"float\")"
   ]
  },
  {
   "cell_type": "code",
   "execution_count": 28,
   "id": "a3d725c2",
   "metadata": {},
   "outputs": [],
   "source": [
    "results_5000_df[\"dropoff_community_area\"] = results_5000_df[\"dropoff_community_area\"].astype(\"float\")"
   ]
  },
  {
   "cell_type": "code",
   "execution_count": 29,
   "id": "4893c864",
   "metadata": {},
   "outputs": [],
   "source": [
    "results_5000_df[\"fare\"] = results_5000_df[\"fare\"].astype(\"float\")"
   ]
  },
  {
   "cell_type": "code",
   "execution_count": 30,
   "id": "ef504b38",
   "metadata": {},
   "outputs": [],
   "source": [
    "results_5000_df[\"tip\"] = results_5000_df[\"tip\"].astype(\"float\")"
   ]
  },
  {
   "cell_type": "code",
   "execution_count": 31,
   "id": "f4af8a3a",
   "metadata": {},
   "outputs": [],
   "source": [
    "results_5000_df[\"additional_charges\"] = results_5000_df[\"additional_charges\"].astype(\"float\")"
   ]
  },
  {
   "cell_type": "code",
   "execution_count": 32,
   "id": "d57c076f",
   "metadata": {},
   "outputs": [],
   "source": [
    "results_5000_df[\"trip_total\"] = results_5000_df[\"trip_total\"].astype(\"float\")"
   ]
  },
  {
   "cell_type": "code",
   "execution_count": 33,
   "id": "2e9cff1a",
   "metadata": {},
   "outputs": [],
   "source": [
    "results_5000_df[\"trips_pooled\"] = results_5000_df[\"trips_pooled\"].astype(\"int\")"
   ]
  },
  {
   "cell_type": "code",
   "execution_count": 34,
   "id": "c68ec3f4",
   "metadata": {},
   "outputs": [
    {
     "name": "stdout",
     "output_type": "stream",
     "text": [
      "<class 'pandas.core.frame.DataFrame'>\n",
      "RangeIndex: 5000 entries, 0 to 4999\n",
      "Data columns (total 23 columns):\n",
      " #   Column                      Non-Null Count  Dtype         \n",
      "---  ------                      --------------  -----         \n",
      " 0   trip_id                     5000 non-null   object        \n",
      " 1   trip_start_timestamp        5000 non-null   datetime64[ns]\n",
      " 2   trip_end_timestamp          5000 non-null   datetime64[ns]\n",
      " 3   trip_seconds                5000 non-null   int64         \n",
      " 4   trip_miles                  5000 non-null   float64       \n",
      " 5   pickup_census_tract         3851 non-null   object        \n",
      " 6   dropoff_census_tract        3725 non-null   object        \n",
      " 7   pickup_community_area       4801 non-null   float64       \n",
      " 8   dropoff_community_area      4649 non-null   float64       \n",
      " 9   fare                        5000 non-null   float64       \n",
      " 10  tip                         5000 non-null   float64       \n",
      " 11  additional_charges          5000 non-null   float64       \n",
      " 12  trip_total                  5000 non-null   float64       \n",
      " 13  shared_trip_authorized      5000 non-null   bool          \n",
      " 14  trips_pooled                5000 non-null   int64         \n",
      " 15  pickup_centroid_latitude    4803 non-null   object        \n",
      " 16  pickup_centroid_longitude   4803 non-null   object        \n",
      " 17  pickup_centroid_location    4803 non-null   object        \n",
      " 18  dropoff_centroid_latitude   4651 non-null   object        \n",
      " 19  dropoff_centroid_longitude  4651 non-null   object        \n",
      " 20  dropoff_centroid_location   4651 non-null   object        \n",
      " 21  trip_start_week             5000 non-null   UInt32        \n",
      " 22  trip_start_month            5000 non-null   int64         \n",
      "dtypes: UInt32(1), bool(1), datetime64[ns](2), float64(7), int64(3), object(9)\n",
      "memory usage: 849.7+ KB\n"
     ]
    }
   ],
   "source": [
    "results_5000_df.info()"
   ]
  },
  {
   "cell_type": "code",
   "execution_count": 15,
   "id": "575db094",
   "metadata": {},
   "outputs": [],
   "source": [
    "results_5000_df[\"trip_start_timestamp\"] = pd.to_datetime(results_5000_df[\"trip_start_timestamp\"])"
   ]
  },
  {
   "cell_type": "code",
   "execution_count": 16,
   "id": "33879649",
   "metadata": {},
   "outputs": [],
   "source": [
    "results_5000_df[\"trip_end_timestamp\"] = pd.to_datetime(results_5000_df[\"trip_end_timestamp\"])"
   ]
  },
  {
   "cell_type": "code",
   "execution_count": 17,
   "id": "dc1b8a40",
   "metadata": {},
   "outputs": [
    {
     "data": {
      "text/plain": [
       "Timestamp('2019-01-01 00:00:00')"
      ]
     },
     "execution_count": 17,
     "metadata": {},
     "output_type": "execute_result"
    }
   ],
   "source": [
    "results_5000_df[\"trip_start_timestamp\"].min()"
   ]
  },
  {
   "cell_type": "code",
   "execution_count": 18,
   "id": "83bf78b8",
   "metadata": {},
   "outputs": [
    {
     "data": {
      "text/plain": [
       "Timestamp('2019-01-01 00:15:00')"
      ]
     },
     "execution_count": 18,
     "metadata": {},
     "output_type": "execute_result"
    }
   ],
   "source": [
    "results_5000_df[\"trip_start_timestamp\"].max()"
   ]
  },
  {
   "cell_type": "code",
   "execution_count": 19,
   "id": "e3d0fbb2",
   "metadata": {},
   "outputs": [],
   "source": [
    "results_5000_df[\"trip_start_week\"] = results_5000_df[\"trip_start_timestamp\"].dt.isocalendar().week"
   ]
  },
  {
   "cell_type": "code",
   "execution_count": 20,
   "id": "79741e6e",
   "metadata": {},
   "outputs": [
    {
     "data": {
      "text/plain": [
       "<IntegerArray>\n",
       "[1]\n",
       "Length: 1, dtype: UInt32"
      ]
     },
     "execution_count": 20,
     "metadata": {},
     "output_type": "execute_result"
    }
   ],
   "source": [
    "results_5000_df[\"trip_start_week\"].unique()"
   ]
  },
  {
   "cell_type": "code",
   "execution_count": 21,
   "id": "db048548",
   "metadata": {},
   "outputs": [],
   "source": [
    "results_5000_df[\"trip_start_month\"] = results_5000_df[\"trip_start_timestamp\"].dt.month"
   ]
  },
  {
   "cell_type": "code",
   "execution_count": 35,
   "id": "4fd0d0d6",
   "metadata": {},
   "outputs": [],
   "source": [
    "avg_total_date = results_5000_df[[\"trip_start_week\", \"trip_total\"]].groupby(\"trip_start_week\").mean()"
   ]
  },
  {
   "cell_type": "code",
   "execution_count": 36,
   "id": "a64bf577",
   "metadata": {},
   "outputs": [],
   "source": [
    "avg_total_date = avg_total_date.reset_index()"
   ]
  },
  {
   "cell_type": "code",
   "execution_count": 47,
   "id": "68113b98",
   "metadata": {},
   "outputs": [
    {
     "data": {
      "image/png": "[encoded data removed]",
      "text/plain": [
       "<Figure size 432x288 with 1 Axes>"
      ]
     },
     "metadata": {
      "needs_background": "light"
     },
     "output_type": "display_data"
    }
   ],
   "source": [
    "plt.plot(avg_total_date[\"trip_start_week\"], avg_total_date[\"trip_total\"])\n",
    "\n",
    "plt.title(\"Average Trip Total by Trip Start Week\")\n",
    "plt.xlabel(\"Trip Start Week\")\n",
    "plt.ylabel(\"Average Trip Total\")\n",
    "plt.show()"
   ]
  },
  {
   "cell_type": "code",
   "execution_count": 39,
   "id": "f350d5c4",
   "metadata": {},
   "outputs": [
    {
     "data": {
      "text/html": [
       "<div>\n",
       "<style scoped>\n",
       "    .dataframe tbody tr th:only-of-type {\n",
       "        vertical-align: middle;\n",
       "    }\n",
       "\n",
       "    .dataframe tbody tr th {\n",
       "        vertical-align: top;\n",
       "    }\n",
       "\n",
       "    .dataframe thead th {\n",
       "        text-align: right;\n",
       "    }\n",
       "</style>\n",
       "<table border=\"1\" class=\"dataframe\">\n",
       "  <thead>\n",
       "    <tr style=\"text-align: right;\">\n",
       "      <th></th>\n",
       "      <th>trip_id</th>\n",
       "      <th>trip_start_timestamp</th>\n",
       "      <th>trip_end_timestamp</th>\n",
       "      <th>trip_seconds</th>\n",
       "      <th>trip_miles</th>\n",
       "      <th>pickup_census_tract</th>\n",
       "      <th>dropoff_census_tract</th>\n",
       "      <th>pickup_community_area</th>\n",
       "      <th>dropoff_community_area</th>\n",
       "      <th>fare</th>\n",
       "      <th>...</th>\n",
       "      <th>shared_trip_authorized</th>\n",
       "      <th>trips_pooled</th>\n",
       "      <th>pickup_centroid_latitude</th>\n",
       "      <th>pickup_centroid_longitude</th>\n",
       "      <th>pickup_centroid_location</th>\n",
       "      <th>dropoff_centroid_latitude</th>\n",
       "      <th>dropoff_centroid_longitude</th>\n",
       "      <th>dropoff_centroid_location</th>\n",
       "      <th>trip_start_week</th>\n",
       "      <th>trip_start_month</th>\n",
       "    </tr>\n",
       "  </thead>\n",
       "  <tbody>\n",
       "    <tr>\n",
       "      <th>0</th>\n",
       "      <td>003dd08da70461f811e7753fbaec03970414bddf</td>\n",
       "      <td>2019-01-01</td>\n",
       "      <td>2019-01-01 00:30:00</td>\n",
       "      <td>1722</td>\n",
       "      <td>9.513456</td>\n",
       "      <td>17031081401</td>\n",
       "      <td>17031830600</td>\n",
       "      <td>8.0</td>\n",
       "      <td>1.0</td>\n",
       "      <td>17.5</td>\n",
       "      <td>...</td>\n",
       "      <td>False</td>\n",
       "      <td>1</td>\n",
       "      <td>41.8950334495</td>\n",
       "      <td>-87.6197106717</td>\n",
       "      <td>{'type': 'Point', 'coordinates': [-87.61971067...</td>\n",
       "      <td>42.0016981937</td>\n",
       "      <td>-87.6735740325</td>\n",
       "      <td>{'type': 'Point', 'coordinates': [-87.67357403...</td>\n",
       "      <td>1</td>\n",
       "      <td>1</td>\n",
       "    </tr>\n",
       "    <tr>\n",
       "      <th>1</th>\n",
       "      <td>0043023973ca23fb921a20f07e83848779ef317d</td>\n",
       "      <td>2019-01-01</td>\n",
       "      <td>2019-01-01 00:15:00</td>\n",
       "      <td>487</td>\n",
       "      <td>2.100430</td>\n",
       "      <td>17031050200</td>\n",
       "      <td>17031062800</td>\n",
       "      <td>5.0</td>\n",
       "      <td>6.0</td>\n",
       "      <td>5.0</td>\n",
       "      <td>...</td>\n",
       "      <td>False</td>\n",
       "      <td>1</td>\n",
       "      <td>41.957735565</td>\n",
       "      <td>-87.683718102</td>\n",
       "      <td>{'type': 'Point', 'coordinates': [-87.68371810...</td>\n",
       "      <td>41.936159071</td>\n",
       "      <td>-87.6612652184</td>\n",
       "      <td>{'type': 'Point', 'coordinates': [-87.66126521...</td>\n",
       "      <td>1</td>\n",
       "      <td>1</td>\n",
       "    </tr>\n",
       "    <tr>\n",
       "      <th>2</th>\n",
       "      <td>007948a0627fa8aadde0c951d2b0db3f4f2f9252</td>\n",
       "      <td>2019-01-01</td>\n",
       "      <td>2019-01-01 00:30:00</td>\n",
       "      <td>1298</td>\n",
       "      <td>18.613781</td>\n",
       "      <td>17031980000</td>\n",
       "      <td>NaN</td>\n",
       "      <td>76.0</td>\n",
       "      <td>NaN</td>\n",
       "      <td>22.5</td>\n",
       "      <td>...</td>\n",
       "      <td>False</td>\n",
       "      <td>1</td>\n",
       "      <td>41.9790708201</td>\n",
       "      <td>-87.9030396611</td>\n",
       "      <td>{'type': 'Point', 'coordinates': [-87.90303966...</td>\n",
       "      <td>NaN</td>\n",
       "      <td>NaN</td>\n",
       "      <td>NaN</td>\n",
       "      <td>1</td>\n",
       "      <td>1</td>\n",
       "    </tr>\n",
       "    <tr>\n",
       "      <th>3</th>\n",
       "      <td>0094daae9466da501bb6a819a91cd4f00e5cda40</td>\n",
       "      <td>2019-01-01</td>\n",
       "      <td>2019-01-01 00:15:00</td>\n",
       "      <td>562</td>\n",
       "      <td>2.352146</td>\n",
       "      <td>17031842200</td>\n",
       "      <td>17031222200</td>\n",
       "      <td>8.0</td>\n",
       "      <td>22.0</td>\n",
       "      <td>7.5</td>\n",
       "      <td>...</td>\n",
       "      <td>False</td>\n",
       "      <td>1</td>\n",
       "      <td>41.9049353016</td>\n",
       "      <td>-87.6499072264</td>\n",
       "      <td>{'type': 'Point', 'coordinates': [-87.64990722...</td>\n",
       "      <td>41.9159097884</td>\n",
       "      <td>-87.6838259399</td>\n",
       "      <td>{'type': 'Point', 'coordinates': [-87.68382593...</td>\n",
       "      <td>1</td>\n",
       "      <td>1</td>\n",
       "    </tr>\n",
       "    <tr>\n",
       "      <th>4</th>\n",
       "      <td>00987083f23af0936863ebb1e1da1d7c6c0a453e</td>\n",
       "      <td>2019-01-01</td>\n",
       "      <td>2019-01-01 00:15:00</td>\n",
       "      <td>245</td>\n",
       "      <td>0.700444</td>\n",
       "      <td>17031833000</td>\n",
       "      <td>17031281900</td>\n",
       "      <td>28.0</td>\n",
       "      <td>28.0</td>\n",
       "      <td>2.5</td>\n",
       "      <td>...</td>\n",
       "      <td>False</td>\n",
       "      <td>1</td>\n",
       "      <td>41.8852813201</td>\n",
       "      <td>-87.6572331997</td>\n",
       "      <td>{'type': 'Point', 'coordinates': [-87.65723319...</td>\n",
       "      <td>41.8792550844</td>\n",
       "      <td>-87.642648998</td>\n",
       "      <td>{'type': 'Point', 'coordinates': [-87.64264899...</td>\n",
       "      <td>1</td>\n",
       "      <td>1</td>\n",
       "    </tr>\n",
       "  </tbody>\n",
       "</table>\n",
       "<p>5 rows × 23 columns</p>\n",
       "</div>"
      ],
      "text/plain": [
       "                                    trip_id trip_start_timestamp  \\\n",
       "0  003dd08da70461f811e7753fbaec03970414bddf           2019-01-01   \n",
       "1  0043023973ca23fb921a20f07e83848779ef317d           2019-01-01   \n",
       "2  007948a0627fa8aadde0c951d2b0db3f4f2f9252           2019-01-01   \n",
       "3  0094daae9466da501bb6a819a91cd4f00e5cda40           2019-01-01   \n",
       "4  00987083f23af0936863ebb1e1da1d7c6c0a453e           2019-01-01   \n",
       "\n",
       "   trip_end_timestamp  trip_seconds  trip_miles pickup_census_tract  \\\n",
       "0 2019-01-01 00:30:00          1722    9.513456         17031081401   \n",
       "1 2019-01-01 00:15:00           487    2.100430         17031050200   \n",
       "2 2019-01-01 00:30:00          1298   18.613781         17031980000   \n",
       "3 2019-01-01 00:15:00           562    2.352146         17031842200   \n",
       "4 2019-01-01 00:15:00           245    0.700444         17031833000   \n",
       "\n",
       "  dropoff_census_tract  pickup_community_area  dropoff_community_area  fare  \\\n",
       "0          17031830600                    8.0                     1.0  17.5   \n",
       "1          17031062800                    5.0                     6.0   5.0   \n",
       "2                  NaN                   76.0                     NaN  22.5   \n",
       "3          17031222200                    8.0                    22.0   7.5   \n",
       "4          17031281900                   28.0                    28.0   2.5   \n",
       "\n",
       "   ...  shared_trip_authorized  trips_pooled  pickup_centroid_latitude  \\\n",
       "0  ...                   False             1             41.8950334495   \n",
       "1  ...                   False             1              41.957735565   \n",
       "2  ...                   False             1             41.9790708201   \n",
       "3  ...                   False             1             41.9049353016   \n",
       "4  ...                   False             1             41.8852813201   \n",
       "\n",
       "   pickup_centroid_longitude  \\\n",
       "0             -87.6197106717   \n",
       "1              -87.683718102   \n",
       "2             -87.9030396611   \n",
       "3             -87.6499072264   \n",
       "4             -87.6572331997   \n",
       "\n",
       "                            pickup_centroid_location  \\\n",
       "0  {'type': 'Point', 'coordinates': [-87.61971067...   \n",
       "1  {'type': 'Point', 'coordinates': [-87.68371810...   \n",
       "2  {'type': 'Point', 'coordinates': [-87.90303966...   \n",
       "3  {'type': 'Point', 'coordinates': [-87.64990722...   \n",
       "4  {'type': 'Point', 'coordinates': [-87.65723319...   \n",
       "\n",
       "  dropoff_centroid_latitude dropoff_centroid_longitude  \\\n",
       "0             42.0016981937             -87.6735740325   \n",
       "1              41.936159071             -87.6612652184   \n",
       "2                       NaN                        NaN   \n",
       "3             41.9159097884             -87.6838259399   \n",
       "4             41.8792550844              -87.642648998   \n",
       "\n",
       "                           dropoff_centroid_location trip_start_week  \\\n",
       "0  {'type': 'Point', 'coordinates': [-87.67357403...               1   \n",
       "1  {'type': 'Point', 'coordinates': [-87.66126521...               1   \n",
       "2                                                NaN               1   \n",
       "3  {'type': 'Point', 'coordinates': [-87.68382593...               1   \n",
       "4  {'type': 'Point', 'coordinates': [-87.64264899...               1   \n",
       "\n",
       "  trip_start_month  \n",
       "0                1  \n",
       "1                1  \n",
       "2                1  \n",
       "3                1  \n",
       "4                1  \n",
       "\n",
       "[5 rows x 23 columns]"
      ]
     },
     "execution_count": 39,
     "metadata": {},
     "output_type": "execute_result"
    }
   ],
   "source": [
    "results_5000_df.head()"
   ]
  },
  {
   "cell_type": "code",
   "execution_count": 40,
   "id": "2fc21b07",
   "metadata": {},
   "outputs": [],
   "source": [
    "avg_total_community = results_5000_df[[\"pickup_community_area\", \"trip_total\"]].groupby(\"pickup_community_area\").mean()"
   ]
  },
  {
   "cell_type": "code",
   "execution_count": 43,
   "id": "a85f19ab",
   "metadata": {},
   "outputs": [],
   "source": [
    "avg_total_community = avg_total_community.reset_index()"
   ]
  },
  {
   "cell_type": "code",
   "execution_count": 46,
   "id": "03e33d46",
   "metadata": {},
   "outputs": [
    {
     "data": {
      "image/png": "[encoded data removed]",
      "text/plain": [
       "<Figure size 432x288 with 1 Axes>"
      ]
     },
     "metadata": {
      "needs_background": "light"
     },
     "output_type": "display_data"
    }
   ],
   "source": [
    "plt.bar(avg_total_community[\"pickup_community_area\"], avg_total_community[\"trip_total\"])\n",
    "\n",
    "plt.title(\"Average Trip Total by Pickup Community Area\")\n",
    "plt.xlabel(\"Pickup Community Area\")\n",
    "plt.ylabel(\"Average Trip Total\")\n",
    "plt.show()"
   ]
  },
  {
   "cell_type": "code",
   "execution_count": 52,
   "id": "778ed1ba",
   "metadata": {},
   "outputs": [
    {
     "name": "stdout",
     "output_type": "stream",
     "text": [
      "Collecting geopandas\n",
      "  Downloading geopandas-0.10.2-py2.py3-none-any.whl (1.0 MB)\n",
      "\u001b[K     |████████████████████████████████| 1.0 MB 942 kB/s eta 0:00:01\n",
      "\u001b[?25hCollecting pyproj>=2.2.0\n",
      "  Downloading pyproj-3.3.0-cp38-cp38-macosx_10_9_x86_64.whl (7.7 MB)\n",
      "\u001b[K     |████████████████████████████████| 7.7 MB 1.5 MB/s eta 0:00:01\n",
      "\u001b[?25hCollecting fiona>=1.8\n",
      "  Downloading Fiona-1.8.20-cp38-cp38-macosx_10_9_x86_64.whl (19.3 MB)\n",
      "\u001b[K     |████████████████████████████████| 19.3 MB 1.1 MB/s eta 0:00:01\n",
      "\u001b[?25hRequirement already satisfied: pandas>=0.25.0 in /Users/michelleorden/opt/anaconda3/lib/python3.8/site-packages (from geopandas) (1.2.4)\n",
      "Collecting shapely>=1.6\n",
      "  Downloading Shapely-1.8.0-cp38-cp38-macosx_10_9_x86_64.whl (1.2 MB)\n",
      "\u001b[K     |████████████████████████████████| 1.2 MB 897 kB/s eta 0:00:01\n",
      "\u001b[?25hRequirement already satisfied: setuptools in /Users/michelleorden/opt/anaconda3/lib/python3.8/site-packages (from fiona>=1.8->geopandas) (52.0.0.post20210125)\n",
      "Requirement already satisfied: attrs>=17 in /Users/michelleorden/opt/anaconda3/lib/python3.8/site-packages (from fiona>=1.8->geopandas) (20.3.0)\n",
      "Collecting munch\n",
      "  Using cached munch-2.5.0-py2.py3-none-any.whl (10 kB)\n",
      "Collecting cligj>=0.5\n",
      "  Downloading cligj-0.7.2-py3-none-any.whl (7.1 kB)\n",
      "Requirement already satisfied: click>=4.0 in /Users/michelleorden/opt/anaconda3/lib/python3.8/site-packages (from fiona>=1.8->geopandas) (7.1.2)\n",
      "Collecting click-plugins>=1.0\n",
      "  Using cached click_plugins-1.1.1-py2.py3-none-any.whl (7.5 kB)\n",
      "Requirement already satisfied: certifi in /Users/michelleorden/opt/anaconda3/lib/python3.8/site-packages (from fiona>=1.8->geopandas) (2020.12.5)\n",
      "Requirement already satisfied: six>=1.7 in /Users/michelleorden/opt/anaconda3/lib/python3.8/site-packages (from fiona>=1.8->geopandas) (1.15.0)\n",
      "Requirement already satisfied: python-dateutil>=2.7.3 in /Users/michelleorden/opt/anaconda3/lib/python3.8/site-packages (from pandas>=0.25.0->geopandas) (2.8.1)\n",
      "Requirement already satisfied: pytz>=2017.3 in /Users/michelleorden/opt/anaconda3/lib/python3.8/site-packages (from pandas>=0.25.0->geopandas) (2021.1)\n",
      "Requirement already satisfied: numpy>=1.16.5 in /Users/michelleorden/opt/anaconda3/lib/python3.8/site-packages (from pandas>=0.25.0->geopandas) (1.20.1)\n",
      "Installing collected packages: munch, cligj, click-plugins, shapely, pyproj, fiona, geopandas\n",
      "Successfully installed click-plugins-1.1.1 cligj-0.7.2 fiona-1.8.20 geopandas-0.10.2 munch-2.5.0 pyproj-3.3.0 shapely-1.8.0\n"
     ]
    }
   ],
   "source": [
    "! pip install geopandas"
   ]
  },
  {
   "cell_type": "code",
   "execution_count": 53,
   "id": "774e757f",
   "metadata": {},
   "outputs": [],
   "source": [
    "import geopandas"
   ]
  },
  {
   "cell_type": "code",
   "execution_count": 67,
   "id": "b2cae5f5",
   "metadata": {},
   "outputs": [
    {
     "data": {
      "text/plain": [
       "[-87.6197106717, 41.8950334495]"
      ]
     },
     "execution_count": 67,
     "metadata": {},
     "output_type": "execute_result"
    }
   ],
   "source": [
    "results_5000_df[\"pickup_centroid_location\"][0]['coordinates']"
   ]
  },
  {
   "cell_type": "code",
   "execution_count": 68,
   "id": "fb3d4430",
   "metadata": {},
   "outputs": [
    {
     "data": {
      "text/plain": [
       "'-87.6197106717'"
      ]
     },
     "execution_count": 68,
     "metadata": {},
     "output_type": "execute_result"
    }
   ],
   "source": [
    "[0]"
   ]
  },
  {
   "cell_type": "code",
   "execution_count": 69,
   "id": "2ebce0ab",
   "metadata": {},
   "outputs": [
    {
     "data": {
      "text/plain": [
       "'41.8950334495'"
      ]
     },
     "execution_count": 69,
     "metadata": {},
     "output_type": "execute_result"
    }
   ],
   "source": [
    "results_5000_df[\"pickup_centroid_longitude\"][0]"
   ]
  },
  {
   "cell_type": "code",
   "execution_count": 71,
   "id": "2e572b57",
   "metadata": {},
   "outputs": [],
   "source": [
    "gdf = geopandas.GeoDataFrame(\n",
    "    results_5000_df, geometry=geopandas.points_from_xy(results_5000_df.pickup_centroid_longitude, results_5000_df.pickup_centroid_latitude))"
   ]
  },
  {
   "cell_type": "code",
   "execution_count": 73,
   "id": "593014e4",
   "metadata": {},
   "outputs": [
    {
     "data": {
      "text/html": [
       "<div>\n",
       "<style scoped>\n",
       "    .dataframe tbody tr th:only-of-type {\n",
       "        vertical-align: middle;\n",
       "    }\n",
       "\n",
       "    .dataframe tbody tr th {\n",
       "        vertical-align: top;\n",
       "    }\n",
       "\n",
       "    .dataframe thead th {\n",
       "        text-align: right;\n",
       "    }\n",
       "</style>\n",
       "<table border=\"1\" class=\"dataframe\">\n",
       "  <thead>\n",
       "    <tr style=\"text-align: right;\">\n",
       "      <th></th>\n",
       "      <th>trip_id</th>\n",
       "      <th>trip_start_timestamp</th>\n",
       "      <th>trip_end_timestamp</th>\n",
       "      <th>trip_seconds</th>\n",
       "      <th>trip_miles</th>\n",
       "      <th>pickup_census_tract</th>\n",
       "      <th>dropoff_census_tract</th>\n",
       "      <th>pickup_community_area</th>\n",
       "      <th>dropoff_community_area</th>\n",
       "      <th>fare</th>\n",
       "      <th>...</th>\n",
       "      <th>trips_pooled</th>\n",
       "      <th>pickup_centroid_latitude</th>\n",
       "      <th>pickup_centroid_longitude</th>\n",
       "      <th>pickup_centroid_location</th>\n",
       "      <th>dropoff_centroid_latitude</th>\n",
       "      <th>dropoff_centroid_longitude</th>\n",
       "      <th>dropoff_centroid_location</th>\n",
       "      <th>trip_start_week</th>\n",
       "      <th>trip_start_month</th>\n",
       "      <th>geometry</th>\n",
       "    </tr>\n",
       "  </thead>\n",
       "  <tbody>\n",
       "    <tr>\n",
       "      <th>0</th>\n",
       "      <td>003dd08da70461f811e7753fbaec03970414bddf</td>\n",
       "      <td>2019-01-01 00:00:00</td>\n",
       "      <td>2019-01-01 00:30:00</td>\n",
       "      <td>1722</td>\n",
       "      <td>9.513456</td>\n",
       "      <td>17031081401</td>\n",
       "      <td>17031830600</td>\n",
       "      <td>8.0</td>\n",
       "      <td>1.0</td>\n",
       "      <td>17.5</td>\n",
       "      <td>...</td>\n",
       "      <td>1</td>\n",
       "      <td>41.8950334495</td>\n",
       "      <td>-87.6197106717</td>\n",
       "      <td>{'type': 'Point', 'coordinates': [-87.61971067...</td>\n",
       "      <td>42.0016981937</td>\n",
       "      <td>-87.6735740325</td>\n",
       "      <td>{'type': 'Point', 'coordinates': [-87.67357403...</td>\n",
       "      <td>1</td>\n",
       "      <td>1</td>\n",
       "      <td>POINT (-87.61971 41.89503)</td>\n",
       "    </tr>\n",
       "    <tr>\n",
       "      <th>1</th>\n",
       "      <td>0043023973ca23fb921a20f07e83848779ef317d</td>\n",
       "      <td>2019-01-01 00:00:00</td>\n",
       "      <td>2019-01-01 00:15:00</td>\n",
       "      <td>487</td>\n",
       "      <td>2.100430</td>\n",
       "      <td>17031050200</td>\n",
       "      <td>17031062800</td>\n",
       "      <td>5.0</td>\n",
       "      <td>6.0</td>\n",
       "      <td>5.0</td>\n",
       "      <td>...</td>\n",
       "      <td>1</td>\n",
       "      <td>41.957735565</td>\n",
       "      <td>-87.683718102</td>\n",
       "      <td>{'type': 'Point', 'coordinates': [-87.68371810...</td>\n",
       "      <td>41.936159071</td>\n",
       "      <td>-87.6612652184</td>\n",
       "      <td>{'type': 'Point', 'coordinates': [-87.66126521...</td>\n",
       "      <td>1</td>\n",
       "      <td>1</td>\n",
       "      <td>POINT (-87.68372 41.95774)</td>\n",
       "    </tr>\n",
       "    <tr>\n",
       "      <th>2</th>\n",
       "      <td>007948a0627fa8aadde0c951d2b0db3f4f2f9252</td>\n",
       "      <td>2019-01-01 00:00:00</td>\n",
       "      <td>2019-01-01 00:30:00</td>\n",
       "      <td>1298</td>\n",
       "      <td>18.613781</td>\n",
       "      <td>17031980000</td>\n",
       "      <td>NaN</td>\n",
       "      <td>76.0</td>\n",
       "      <td>NaN</td>\n",
       "      <td>22.5</td>\n",
       "      <td>...</td>\n",
       "      <td>1</td>\n",
       "      <td>41.9790708201</td>\n",
       "      <td>-87.9030396611</td>\n",
       "      <td>{'type': 'Point', 'coordinates': [-87.90303966...</td>\n",
       "      <td>NaN</td>\n",
       "      <td>NaN</td>\n",
       "      <td>NaN</td>\n",
       "      <td>1</td>\n",
       "      <td>1</td>\n",
       "      <td>POINT (-87.90304 41.97907)</td>\n",
       "    </tr>\n",
       "    <tr>\n",
       "      <th>3</th>\n",
       "      <td>0094daae9466da501bb6a819a91cd4f00e5cda40</td>\n",
       "      <td>2019-01-01 00:00:00</td>\n",
       "      <td>2019-01-01 00:15:00</td>\n",
       "      <td>562</td>\n",
       "      <td>2.352146</td>\n",
       "      <td>17031842200</td>\n",
       "      <td>17031222200</td>\n",
       "      <td>8.0</td>\n",
       "      <td>22.0</td>\n",
       "      <td>7.5</td>\n",
       "      <td>...</td>\n",
       "      <td>1</td>\n",
       "      <td>41.9049353016</td>\n",
       "      <td>-87.6499072264</td>\n",
       "      <td>{'type': 'Point', 'coordinates': [-87.64990722...</td>\n",
       "      <td>41.9159097884</td>\n",
       "      <td>-87.6838259399</td>\n",
       "      <td>{'type': 'Point', 'coordinates': [-87.68382593...</td>\n",
       "      <td>1</td>\n",
       "      <td>1</td>\n",
       "      <td>POINT (-87.64991 41.90494)</td>\n",
       "    </tr>\n",
       "    <tr>\n",
       "      <th>4</th>\n",
       "      <td>00987083f23af0936863ebb1e1da1d7c6c0a453e</td>\n",
       "      <td>2019-01-01 00:00:00</td>\n",
       "      <td>2019-01-01 00:15:00</td>\n",
       "      <td>245</td>\n",
       "      <td>0.700444</td>\n",
       "      <td>17031833000</td>\n",
       "      <td>17031281900</td>\n",
       "      <td>28.0</td>\n",
       "      <td>28.0</td>\n",
       "      <td>2.5</td>\n",
       "      <td>...</td>\n",
       "      <td>1</td>\n",
       "      <td>41.8852813201</td>\n",
       "      <td>-87.6572331997</td>\n",
       "      <td>{'type': 'Point', 'coordinates': [-87.65723319...</td>\n",
       "      <td>41.8792550844</td>\n",
       "      <td>-87.642648998</td>\n",
       "      <td>{'type': 'Point', 'coordinates': [-87.64264899...</td>\n",
       "      <td>1</td>\n",
       "      <td>1</td>\n",
       "      <td>POINT (-87.65723 41.88528)</td>\n",
       "    </tr>\n",
       "    <tr>\n",
       "      <th>...</th>\n",
       "      <td>...</td>\n",
       "      <td>...</td>\n",
       "      <td>...</td>\n",
       "      <td>...</td>\n",
       "      <td>...</td>\n",
       "      <td>...</td>\n",
       "      <td>...</td>\n",
       "      <td>...</td>\n",
       "      <td>...</td>\n",
       "      <td>...</td>\n",
       "      <td>...</td>\n",
       "      <td>...</td>\n",
       "      <td>...</td>\n",
       "      <td>...</td>\n",
       "      <td>...</td>\n",
       "      <td>...</td>\n",
       "      <td>...</td>\n",
       "      <td>...</td>\n",
       "      <td>...</td>\n",
       "      <td>...</td>\n",
       "      <td>...</td>\n",
       "    </tr>\n",
       "    <tr>\n",
       "      <th>4995</th>\n",
       "      <td>71cdf87026de6dce2cb7c18f7b5697e180569092</td>\n",
       "      <td>2019-01-01 00:15:00</td>\n",
       "      <td>2019-01-01 00:45:00</td>\n",
       "      <td>1143</td>\n",
       "      <td>4.753310</td>\n",
       "      <td>17031243300</td>\n",
       "      <td>17031062000</td>\n",
       "      <td>24.0</td>\n",
       "      <td>6.0</td>\n",
       "      <td>7.5</td>\n",
       "      <td>...</td>\n",
       "      <td>2</td>\n",
       "      <td>41.8924931672</td>\n",
       "      <td>-87.6647458359</td>\n",
       "      <td>{'type': 'Point', 'coordinates': [-87.66474583...</td>\n",
       "      <td>41.942577185</td>\n",
       "      <td>-87.6470785093</td>\n",
       "      <td>{'type': 'Point', 'coordinates': [-87.64707850...</td>\n",
       "      <td>1</td>\n",
       "      <td>1</td>\n",
       "      <td>POINT (-87.66475 41.89249)</td>\n",
       "    </tr>\n",
       "    <tr>\n",
       "      <th>4996</th>\n",
       "      <td>71d010c3298cfd3d66872ea12cdf070364b50e12</td>\n",
       "      <td>2019-01-01 00:15:00</td>\n",
       "      <td>2019-01-01 00:30:00</td>\n",
       "      <td>502</td>\n",
       "      <td>2.477637</td>\n",
       "      <td>17031081300</td>\n",
       "      <td>17031071400</td>\n",
       "      <td>8.0</td>\n",
       "      <td>7.0</td>\n",
       "      <td>5.0</td>\n",
       "      <td>...</td>\n",
       "      <td>1</td>\n",
       "      <td>41.8983317935</td>\n",
       "      <td>-87.6207628651</td>\n",
       "      <td>{'type': 'Point', 'coordinates': [-87.62076286...</td>\n",
       "      <td>41.922082541</td>\n",
       "      <td>-87.6341560931</td>\n",
       "      <td>{'type': 'Point', 'coordinates': [-87.63415609...</td>\n",
       "      <td>1</td>\n",
       "      <td>1</td>\n",
       "      <td>POINT (-87.62076 41.89833)</td>\n",
       "    </tr>\n",
       "    <tr>\n",
       "      <th>4997</th>\n",
       "      <td>71d0b980e4b9f10943d76939d9388ba181af02fa</td>\n",
       "      <td>2019-01-01 00:15:00</td>\n",
       "      <td>2019-01-01 00:15:00</td>\n",
       "      <td>515</td>\n",
       "      <td>2.639870</td>\n",
       "      <td>17031040202</td>\n",
       "      <td>17031020200</td>\n",
       "      <td>4.0</td>\n",
       "      <td>2.0</td>\n",
       "      <td>7.5</td>\n",
       "      <td>...</td>\n",
       "      <td>1</td>\n",
       "      <td>41.9798553089</td>\n",
       "      <td>-87.6940960217</td>\n",
       "      <td>{'type': 'Point', 'coordinates': [-87.69409602...</td>\n",
       "      <td>42.0156967498</td>\n",
       "      <td>-87.6996630419</td>\n",
       "      <td>{'type': 'Point', 'coordinates': [-87.69966304...</td>\n",
       "      <td>1</td>\n",
       "      <td>1</td>\n",
       "      <td>POINT (-87.69410 41.97986)</td>\n",
       "    </tr>\n",
       "    <tr>\n",
       "      <th>4998</th>\n",
       "      <td>71da039d2e7552267bfac95d75bcf2bd9025c13c</td>\n",
       "      <td>2019-01-01 00:15:00</td>\n",
       "      <td>2019-01-01 00:45:00</td>\n",
       "      <td>1937</td>\n",
       "      <td>10.035095</td>\n",
       "      <td>NaN</td>\n",
       "      <td>NaN</td>\n",
       "      <td>1.0</td>\n",
       "      <td>8.0</td>\n",
       "      <td>20.0</td>\n",
       "      <td>...</td>\n",
       "      <td>1</td>\n",
       "      <td>42.0096228806</td>\n",
       "      <td>-87.6701668569</td>\n",
       "      <td>{'type': 'Point', 'coordinates': [-87.67016685...</td>\n",
       "      <td>41.899602111</td>\n",
       "      <td>-87.6333080367</td>\n",
       "      <td>{'type': 'Point', 'coordinates': [-87.63330803...</td>\n",
       "      <td>1</td>\n",
       "      <td>1</td>\n",
       "      <td>POINT (-87.67017 42.00962)</td>\n",
       "    </tr>\n",
       "    <tr>\n",
       "      <th>4999</th>\n",
       "      <td>71e9149210a6355bcf2671bafc31042d50e3a0ad</td>\n",
       "      <td>2019-01-01 00:15:00</td>\n",
       "      <td>2019-01-01 00:30:00</td>\n",
       "      <td>349</td>\n",
       "      <td>1.371076</td>\n",
       "      <td>17031031300</td>\n",
       "      <td>17031030800</td>\n",
       "      <td>3.0</td>\n",
       "      <td>77.0</td>\n",
       "      <td>5.0</td>\n",
       "      <td>...</td>\n",
       "      <td>1</td>\n",
       "      <td>41.9729293173</td>\n",
       "      <td>-87.6502900743</td>\n",
       "      <td>{'type': 'Point', 'coordinates': [-87.65029007...</td>\n",
       "      <td>41.9799124453</td>\n",
       "      <td>-87.6641882421</td>\n",
       "      <td>{'type': 'Point', 'coordinates': [-87.66418824...</td>\n",
       "      <td>1</td>\n",
       "      <td>1</td>\n",
       "      <td>POINT (-87.65029 41.97293)</td>\n",
       "    </tr>\n",
       "  </tbody>\n",
       "</table>\n",
       "<p>5000 rows × 24 columns</p>\n",
       "</div>"
      ],
      "text/plain": [
       "                                       trip_id trip_start_timestamp  \\\n",
       "0     003dd08da70461f811e7753fbaec03970414bddf  2019-01-01 00:00:00   \n",
       "1     0043023973ca23fb921a20f07e83848779ef317d  2019-01-01 00:00:00   \n",
       "2     007948a0627fa8aadde0c951d2b0db3f4f2f9252  2019-01-01 00:00:00   \n",
       "3     0094daae9466da501bb6a819a91cd4f00e5cda40  2019-01-01 00:00:00   \n",
       "4     00987083f23af0936863ebb1e1da1d7c6c0a453e  2019-01-01 00:00:00   \n",
       "...                                        ...                  ...   \n",
       "4995  71cdf87026de6dce2cb7c18f7b5697e180569092  2019-01-01 00:15:00   \n",
       "4996  71d010c3298cfd3d66872ea12cdf070364b50e12  2019-01-01 00:15:00   \n",
       "4997  71d0b980e4b9f10943d76939d9388ba181af02fa  2019-01-01 00:15:00   \n",
       "4998  71da039d2e7552267bfac95d75bcf2bd9025c13c  2019-01-01 00:15:00   \n",
       "4999  71e9149210a6355bcf2671bafc31042d50e3a0ad  2019-01-01 00:15:00   \n",
       "\n",
       "      trip_end_timestamp  trip_seconds  trip_miles pickup_census_tract  \\\n",
       "0    2019-01-01 00:30:00          1722    9.513456         17031081401   \n",
       "1    2019-01-01 00:15:00           487    2.100430         17031050200   \n",
       "2    2019-01-01 00:30:00          1298   18.613781         17031980000   \n",
       "3    2019-01-01 00:15:00           562    2.352146         17031842200   \n",
       "4    2019-01-01 00:15:00           245    0.700444         17031833000   \n",
       "...                  ...           ...         ...                 ...   \n",
       "4995 2019-01-01 00:45:00          1143    4.753310         17031243300   \n",
       "4996 2019-01-01 00:30:00           502    2.477637         17031081300   \n",
       "4997 2019-01-01 00:15:00           515    2.639870         17031040202   \n",
       "4998 2019-01-01 00:45:00          1937   10.035095                 NaN   \n",
       "4999 2019-01-01 00:30:00           349    1.371076         17031031300   \n",
       "\n",
       "     dropoff_census_tract  pickup_community_area  dropoff_community_area  \\\n",
       "0             17031830600                    8.0                     1.0   \n",
       "1             17031062800                    5.0                     6.0   \n",
       "2                     NaN                   76.0                     NaN   \n",
       "3             17031222200                    8.0                    22.0   \n",
       "4             17031281900                   28.0                    28.0   \n",
       "...                   ...                    ...                     ...   \n",
       "4995          17031062000                   24.0                     6.0   \n",
       "4996          17031071400                    8.0                     7.0   \n",
       "4997          17031020200                    4.0                     2.0   \n",
       "4998                  NaN                    1.0                     8.0   \n",
       "4999          17031030800                    3.0                    77.0   \n",
       "\n",
       "      fare  ...  trips_pooled  pickup_centroid_latitude  \\\n",
       "0     17.5  ...             1             41.8950334495   \n",
       "1      5.0  ...             1              41.957735565   \n",
       "2     22.5  ...             1             41.9790708201   \n",
       "3      7.5  ...             1             41.9049353016   \n",
       "4      2.5  ...             1             41.8852813201   \n",
       "...    ...  ...           ...                       ...   \n",
       "4995   7.5  ...             2             41.8924931672   \n",
       "4996   5.0  ...             1             41.8983317935   \n",
       "4997   7.5  ...             1             41.9798553089   \n",
       "4998  20.0  ...             1             42.0096228806   \n",
       "4999   5.0  ...             1             41.9729293173   \n",
       "\n",
       "      pickup_centroid_longitude  \\\n",
       "0                -87.6197106717   \n",
       "1                 -87.683718102   \n",
       "2                -87.9030396611   \n",
       "3                -87.6499072264   \n",
       "4                -87.6572331997   \n",
       "...                         ...   \n",
       "4995             -87.6647458359   \n",
       "4996             -87.6207628651   \n",
       "4997             -87.6940960217   \n",
       "4998             -87.6701668569   \n",
       "4999             -87.6502900743   \n",
       "\n",
       "                               pickup_centroid_location  \\\n",
       "0     {'type': 'Point', 'coordinates': [-87.61971067...   \n",
       "1     {'type': 'Point', 'coordinates': [-87.68371810...   \n",
       "2     {'type': 'Point', 'coordinates': [-87.90303966...   \n",
       "3     {'type': 'Point', 'coordinates': [-87.64990722...   \n",
       "4     {'type': 'Point', 'coordinates': [-87.65723319...   \n",
       "...                                                 ...   \n",
       "4995  {'type': 'Point', 'coordinates': [-87.66474583...   \n",
       "4996  {'type': 'Point', 'coordinates': [-87.62076286...   \n",
       "4997  {'type': 'Point', 'coordinates': [-87.69409602...   \n",
       "4998  {'type': 'Point', 'coordinates': [-87.67016685...   \n",
       "4999  {'type': 'Point', 'coordinates': [-87.65029007...   \n",
       "\n",
       "      dropoff_centroid_latitude dropoff_centroid_longitude  \\\n",
       "0                 42.0016981937             -87.6735740325   \n",
       "1                  41.936159071             -87.6612652184   \n",
       "2                           NaN                        NaN   \n",
       "3                 41.9159097884             -87.6838259399   \n",
       "4                 41.8792550844              -87.642648998   \n",
       "...                         ...                        ...   \n",
       "4995               41.942577185             -87.6470785093   \n",
       "4996               41.922082541             -87.6341560931   \n",
       "4997              42.0156967498             -87.6996630419   \n",
       "4998               41.899602111             -87.6333080367   \n",
       "4999              41.9799124453             -87.6641882421   \n",
       "\n",
       "                              dropoff_centroid_location trip_start_week  \\\n",
       "0     {'type': 'Point', 'coordinates': [-87.67357403...               1   \n",
       "1     {'type': 'Point', 'coordinates': [-87.66126521...               1   \n",
       "2                                                   NaN               1   \n",
       "3     {'type': 'Point', 'coordinates': [-87.68382593...               1   \n",
       "4     {'type': 'Point', 'coordinates': [-87.64264899...               1   \n",
       "...                                                 ...             ...   \n",
       "4995  {'type': 'Point', 'coordinates': [-87.64707850...               1   \n",
       "4996  {'type': 'Point', 'coordinates': [-87.63415609...               1   \n",
       "4997  {'type': 'Point', 'coordinates': [-87.69966304...               1   \n",
       "4998  {'type': 'Point', 'coordinates': [-87.63330803...               1   \n",
       "4999  {'type': 'Point', 'coordinates': [-87.66418824...               1   \n",
       "\n",
       "     trip_start_month                    geometry  \n",
       "0                   1  POINT (-87.61971 41.89503)  \n",
       "1                   1  POINT (-87.68372 41.95774)  \n",
       "2                   1  POINT (-87.90304 41.97907)  \n",
       "3                   1  POINT (-87.64991 41.90494)  \n",
       "4                   1  POINT (-87.65723 41.88528)  \n",
       "...               ...                         ...  \n",
       "4995                1  POINT (-87.66475 41.89249)  \n",
       "4996                1  POINT (-87.62076 41.89833)  \n",
       "4997                1  POINT (-87.69410 41.97986)  \n",
       "4998                1  POINT (-87.67017 42.00962)  \n",
       "4999                1  POINT (-87.65029 41.97293)  \n",
       "\n",
       "[5000 rows x 24 columns]"
      ]
     },
     "execution_count": 73,
     "metadata": {},
     "output_type": "execute_result"
    }
   ],
   "source": [
    "gdf"
   ]
  },
  {
   "cell_type": "code",
   "execution_count": 72,
   "id": "6ed76545",
   "metadata": {},
   "outputs": [
    {
     "data": {
      "text/plain": [
       "<AxesSubplot:>"
      ]
     },
     "execution_count": 72,
     "metadata": {},
     "output_type": "execute_result"
    },
    {
     "data": {
      "image/png": "[encoded data removed]",
      "text/plain": [
       "<Figure size 432x288 with 1 Axes>"
      ]
     },
     "metadata": {
      "needs_background": "light"
     },
     "output_type": "display_data"
    }
   ],
   "source": [
    "gdf.plot()"
   ]
  },
  {
   "cell_type": "code",
   "execution_count": 74,
   "id": "9a6a4da7",
   "metadata": {},
   "outputs": [
    {
     "data": {
      "text/plain": [
       "<AxesSubplot:>"
      ]
     },
     "execution_count": 74,
     "metadata": {},
     "output_type": "execute_result"
    },
    {
     "data": {
      "image/png": "[encoded data removed]",
      "text/plain": [
       "<Figure size 432x288 with 2 Axes>"
      ]
     },
     "metadata": {
      "needs_background": "light"
     },
     "output_type": "display_data"
    }
   ],
   "source": [
    "fig, ax = plt.subplots(1, 1)\n",
    "\n",
    "gdf.plot(column='trip_total', ax=ax, legend=True)"
   ]
  },
  {
   "cell_type": "code",
   "execution_count": 75,
   "id": "e28ee878",
   "metadata": {},
   "outputs": [
    {
     "name": "stdout",
     "output_type": "stream",
     "text": [
      "<class 'geopandas.geodataframe.GeoDataFrame'>\n",
      "RangeIndex: 5000 entries, 0 to 4999\n",
      "Data columns (total 24 columns):\n",
      " #   Column                      Non-Null Count  Dtype         \n",
      "---  ------                      --------------  -----         \n",
      " 0   trip_id                     5000 non-null   object        \n",
      " 1   trip_start_timestamp        5000 non-null   datetime64[ns]\n",
      " 2   trip_end_timestamp          5000 non-null   datetime64[ns]\n",
      " 3   trip_seconds                5000 non-null   int64         \n",
      " 4   trip_miles                  5000 non-null   float64       \n",
      " 5   pickup_census_tract         3851 non-null   object        \n",
      " 6   dropoff_census_tract        3725 non-null   object        \n",
      " 7   pickup_community_area       4801 non-null   float64       \n",
      " 8   dropoff_community_area      4649 non-null   float64       \n",
      " 9   fare                        5000 non-null   float64       \n",
      " 10  tip                         5000 non-null   float64       \n",
      " 11  additional_charges          5000 non-null   float64       \n",
      " 12  trip_total                  5000 non-null   float64       \n",
      " 13  shared_trip_authorized      5000 non-null   bool          \n",
      " 14  trips_pooled                5000 non-null   int64         \n",
      " 15  pickup_centroid_latitude    4803 non-null   object        \n",
      " 16  pickup_centroid_longitude   4803 non-null   object        \n",
      " 17  pickup_centroid_location    4803 non-null   object        \n",
      " 18  dropoff_centroid_latitude   4651 non-null   object        \n",
      " 19  dropoff_centroid_longitude  4651 non-null   object        \n",
      " 20  dropoff_centroid_location   4651 non-null   object        \n",
      " 21  trip_start_week             5000 non-null   UInt32        \n",
      " 22  trip_start_month            5000 non-null   int64         \n",
      " 23  geometry                    5000 non-null   geometry      \n",
      "dtypes: UInt32(1), bool(1), datetime64[ns](2), float64(7), geometry(1), int64(3), object(9)\n",
      "memory usage: 888.8+ KB\n"
     ]
    }
   ],
   "source": [
    "gdf.info()"
   ]
  },
  {
   "cell_type": "code",
   "execution_count": 76,
   "id": "a93225f6",
   "metadata": {},
   "outputs": [
    {
     "data": {
      "text/plain": [
       "<AxesSubplot:>"
      ]
     },
     "execution_count": 76,
     "metadata": {},
     "output_type": "execute_result"
    },
    {
     "data": {
      "image/png": "[encoded data removed]",
      "text/plain": [
       "<Figure size 432x288 with 2 Axes>"
      ]
     },
     "metadata": {
      "needs_background": "light"
     },
     "output_type": "display_data"
    }
   ],
   "source": [
    "fig, ax = plt.subplots(1, 1)\n",
    "\n",
    "gdf.plot(column='trip_total', ax=ax, legend=True)"
   ]
  },
  {
   "cell_type": "code",
   "execution_count": 77,
   "id": "a6100f88",
   "metadata": {},
   "outputs": [
    {
     "data": {
      "text/plain": [
       "<AxesSubplot:>"
      ]
     },
     "execution_count": 77,
     "metadata": {},
     "output_type": "execute_result"
    },
    {
     "data": {
      "image/png": "[encoded data removed]",
      "text/plain": [
       "<Figure size 432x288 with 2 Axes>"
      ]
     },
     "metadata": {
      "needs_background": "light"
     },
     "output_type": "display_data"
    }
   ],
   "source": [
    "fig, ax = plt.subplots(1, 1)\n",
    "\n",
    "gdf.plot(column='fare', ax=ax, legend=True)"
   ]
  },
  {
   "cell_type": "code",
   "execution_count": 78,
   "id": "66062365",
   "metadata": {},
   "outputs": [
    {
     "data": {
      "text/plain": [
       "<AxesSubplot:>"
      ]
     },
     "execution_count": 78,
     "metadata": {},
     "output_type": "execute_result"
    },
    {
     "data": {
      "image/png": "[encoded data removed]",
      "text/plain": [
       "<Figure size 432x288 with 2 Axes>"
      ]
     },
     "metadata": {
      "needs_background": "light"
     },
     "output_type": "display_data"
    }
   ],
   "source": [
    "fig, ax = plt.subplots(1, 1)\n",
    "\n",
    "gdf.plot(column='tip', ax=ax, legend=True)"
   ]
  },
  {
   "cell_type": "code",
   "execution_count": 79,
   "id": "0a6a1000",
   "metadata": {},
   "outputs": [
    {
     "data": {
      "text/plain": [
       "<AxesSubplot:>"
      ]
     },
     "execution_count": 79,
     "metadata": {},
     "output_type": "execute_result"
    },
    {
     "data": {
      "image/png": "[encoded data removed]",
      "text/plain": [
       "<Figure size 432x288 with 2 Axes>"
      ]
     },
     "metadata": {
      "needs_background": "light"
     },
     "output_type": "display_data"
    }
   ],
   "source": [
    "fig, ax = plt.subplots(1, 1)\n",
    "\n",
    "gdf.plot(column='additional_charges', ax=ax, legend=True)"
   ]
  },
  {
   "cell_type": "code",
   "execution_count": 80,
   "id": "549ef74a",
   "metadata": {},
   "outputs": [
    {
     "data": {
      "text/plain": [
       "<AxesSubplot:>"
      ]
     },
     "execution_count": 80,
     "metadata": {},
     "output_type": "execute_result"
    },
    {
     "data": {
      "image/png": "[encoded data removed]",
      "text/plain": [
       "<Figure size 432x288 with 2 Axes>"
      ]
     },
     "metadata": {
      "needs_background": "light"
     },
     "output_type": "display_data"
    }
   ],
   "source": [
    "fig, ax = plt.subplots(1, 1)\n",
    "\n",
    "gdf.plot(column='trips_pooled', ax=ax, legend=True)"
   ]
  },
  {
   "cell_type": "code",
   "execution_count": 81,
   "id": "5b765ac9",
   "metadata": {},
   "outputs": [
    {
     "data": {
      "text/plain": [
       "array([1, 2, 3, 4, 5])"
      ]
     },
     "execution_count": 81,
     "metadata": {},
     "output_type": "execute_result"
    }
   ],
   "source": [
    "gdf['trips_pooled'].unique()"
   ]
  },
  {
   "cell_type": "code",
   "execution_count": 83,
   "id": "1133907b",
   "metadata": {},
   "outputs": [
    {
     "name": "stdout",
     "output_type": "stream",
     "text": [
      "Collecting geojson\n",
      "  Downloading geojson-2.5.0-py2.py3-none-any.whl (14 kB)\n",
      "Installing collected packages: geojson\n",
      "Successfully installed geojson-2.5.0\n"
     ]
    }
   ],
   "source": [
    "! pip install geojson"
   ]
  },
  {
   "cell_type": "code",
   "execution_count": 84,
   "id": "5861010e",
   "metadata": {},
   "outputs": [],
   "source": [
    "import geojson"
   ]
  },
  {
   "cell_type": "code",
   "execution_count": 104,
   "id": "da979fbc",
   "metadata": {},
   "outputs": [],
   "source": [
    "boundaries = geopandas.read_file(\"data/Boundaries - Community Areas (current).geojson\")"
   ]
  },
  {
   "cell_type": "code",
   "execution_count": 105,
   "id": "fd4d5729",
   "metadata": {},
   "outputs": [
    {
     "data": {
      "text/html": [
       "<div>\n",
       "<style scoped>\n",
       "    .dataframe tbody tr th:only-of-type {\n",
       "        vertical-align: middle;\n",
       "    }\n",
       "\n",
       "    .dataframe tbody tr th {\n",
       "        vertical-align: top;\n",
       "    }\n",
       "\n",
       "    .dataframe thead th {\n",
       "        text-align: right;\n",
       "    }\n",
       "</style>\n",
       "<table border=\"1\" class=\"dataframe\">\n",
       "  <thead>\n",
       "    <tr style=\"text-align: right;\">\n",
       "      <th></th>\n",
       "      <th>community</th>\n",
       "      <th>area</th>\n",
       "      <th>shape_area</th>\n",
       "      <th>perimeter</th>\n",
       "      <th>area_num_1</th>\n",
       "      <th>area_numbe</th>\n",
       "      <th>comarea_id</th>\n",
       "      <th>comarea</th>\n",
       "      <th>shape_len</th>\n",
       "      <th>geometry</th>\n",
       "    </tr>\n",
       "  </thead>\n",
       "  <tbody>\n",
       "    <tr>\n",
       "      <th>0</th>\n",
       "      <td>DOUGLAS</td>\n",
       "      <td>0</td>\n",
       "      <td>46004621.1581</td>\n",
       "      <td>0</td>\n",
       "      <td>35</td>\n",
       "      <td>35</td>\n",
       "      <td>0</td>\n",
       "      <td>0</td>\n",
       "      <td>31027.0545098</td>\n",
       "      <td>MULTIPOLYGON (((-87.60914 41.84469, -87.60915 ...</td>\n",
       "    </tr>\n",
       "    <tr>\n",
       "      <th>1</th>\n",
       "      <td>OAKLAND</td>\n",
       "      <td>0</td>\n",
       "      <td>16913961.0408</td>\n",
       "      <td>0</td>\n",
       "      <td>36</td>\n",
       "      <td>36</td>\n",
       "      <td>0</td>\n",
       "      <td>0</td>\n",
       "      <td>19565.5061533</td>\n",
       "      <td>MULTIPOLYGON (((-87.59215 41.81693, -87.59231 ...</td>\n",
       "    </tr>\n",
       "    <tr>\n",
       "      <th>2</th>\n",
       "      <td>FULLER PARK</td>\n",
       "      <td>0</td>\n",
       "      <td>19916704.8692</td>\n",
       "      <td>0</td>\n",
       "      <td>37</td>\n",
       "      <td>37</td>\n",
       "      <td>0</td>\n",
       "      <td>0</td>\n",
       "      <td>25339.0897503</td>\n",
       "      <td>MULTIPOLYGON (((-87.62880 41.80189, -87.62879 ...</td>\n",
       "    </tr>\n",
       "    <tr>\n",
       "      <th>3</th>\n",
       "      <td>GRAND BOULEVARD</td>\n",
       "      <td>0</td>\n",
       "      <td>48492503.1554</td>\n",
       "      <td>0</td>\n",
       "      <td>38</td>\n",
       "      <td>38</td>\n",
       "      <td>0</td>\n",
       "      <td>0</td>\n",
       "      <td>28196.8371573</td>\n",
       "      <td>MULTIPOLYGON (((-87.60671 41.81681, -87.60670 ...</td>\n",
       "    </tr>\n",
       "    <tr>\n",
       "      <th>4</th>\n",
       "      <td>KENWOOD</td>\n",
       "      <td>0</td>\n",
       "      <td>29071741.9283</td>\n",
       "      <td>0</td>\n",
       "      <td>39</td>\n",
       "      <td>39</td>\n",
       "      <td>0</td>\n",
       "      <td>0</td>\n",
       "      <td>23325.1679062</td>\n",
       "      <td>MULTIPOLYGON (((-87.59215 41.81693, -87.59215 ...</td>\n",
       "    </tr>\n",
       "  </tbody>\n",
       "</table>\n",
       "</div>"
      ],
      "text/plain": [
       "         community area     shape_area perimeter area_num_1 area_numbe  \\\n",
       "0          DOUGLAS    0  46004621.1581         0         35         35   \n",
       "1          OAKLAND    0  16913961.0408         0         36         36   \n",
       "2      FULLER PARK    0  19916704.8692         0         37         37   \n",
       "3  GRAND BOULEVARD    0  48492503.1554         0         38         38   \n",
       "4          KENWOOD    0  29071741.9283         0         39         39   \n",
       "\n",
       "  comarea_id comarea      shape_len  \\\n",
       "0          0       0  31027.0545098   \n",
       "1          0       0  19565.5061533   \n",
       "2          0       0  25339.0897503   \n",
       "3          0       0  28196.8371573   \n",
       "4          0       0  23325.1679062   \n",
       "\n",
       "                                            geometry  \n",
       "0  MULTIPOLYGON (((-87.60914 41.84469, -87.60915 ...  \n",
       "1  MULTIPOLYGON (((-87.59215 41.81693, -87.59231 ...  \n",
       "2  MULTIPOLYGON (((-87.62880 41.80189, -87.62879 ...  \n",
       "3  MULTIPOLYGON (((-87.60671 41.81681, -87.60670 ...  \n",
       "4  MULTIPOLYGON (((-87.59215 41.81693, -87.59215 ...  "
      ]
     },
     "execution_count": 105,
     "metadata": {},
     "output_type": "execute_result"
    }
   ],
   "source": [
    "boundaries.head()"
   ]
  },
  {
   "cell_type": "code",
   "execution_count": 129,
   "id": "7fdd623d",
   "metadata": {},
   "outputs": [
    {
     "data": {
      "image/png": "[encoded data removed]",
      "text/plain": [
       "<Figure size 432x432 with 2 Axes>"
      ]
     },
     "metadata": {
      "needs_background": "light"
     },
     "output_type": "display_data"
    }
   ],
   "source": [
    "fig, ax = plt.subplots(1, 1, figsize=(6, 6))\n",
    "# fig.set_size_inches(4, 6)\n",
    "\n",
    "\n",
    "boundaries['geometry'].plot(ax=ax, color='white', edgecolor='black')\n",
    "gdf.plot(column='trip_total', ax=ax, legend=True)\n",
    "plt.show()"
   ]
  },
  {
   "cell_type": "markdown",
   "id": "f47455d5",
   "metadata": {},
   "source": [
    "### Machine Learning"
   ]
  },
  {
   "cell_type": "markdown",
   "id": "ee016682",
   "metadata": {},
   "source": [
    "1. Given a new rider’s pickup census tract and dropoff census tract, what is the predicted total trip cost and ‘additional charges’ for the rider?\n",
    "\n",
    "2. Given a new rider’s pickup census tract, what is the probability that the rider will request a ‘pooled’ trip (shared ride)?"
   ]
  },
  {
   "cell_type": "markdown",
   "id": "2cc1bae7",
   "metadata": {},
   "source": [
    "#### Least Squares Regression"
   ]
  },
  {
   "cell_type": "code",
   "execution_count": null,
   "id": "c8cdeba8",
   "metadata": {},
   "outputs": [],
   "source": []
  },
  {
   "cell_type": "markdown",
   "id": "737e9ec6",
   "metadata": {},
   "source": [
    "#### Ridge Regression"
   ]
  },
  {
   "cell_type": "code",
   "execution_count": null,
   "id": "e64d3394",
   "metadata": {},
   "outputs": [],
   "source": []
  },
  {
   "cell_type": "markdown",
   "id": "5b12996e",
   "metadata": {},
   "source": [
    "#### Lasso Regression"
   ]
  },
  {
   "cell_type": "code",
   "execution_count": null,
   "id": "624cf1cc",
   "metadata": {},
   "outputs": [],
   "source": []
  },
  {
   "cell_type": "markdown",
   "id": "7a892b10",
   "metadata": {},
   "source": [
    "#### Random Forests"
   ]
  },
  {
   "cell_type": "code",
   "execution_count": null,
   "id": "f8180488",
   "metadata": {},
   "outputs": [],
   "source": []
  },
  {
   "cell_type": "markdown",
   "id": "f4b970ac",
   "metadata": {},
   "source": [
    "#### Simple Neural Network"
   ]
  },
  {
   "cell_type": "code",
   "execution_count": null,
   "id": "30ae2e69",
   "metadata": {},
   "outputs": [],
   "source": []
  }
 ],
 "metadata": {
  "kernelspec": {
   "display_name": "Python 3",
   "language": "python",
   "name": "python3"
  },
  "language_info": {
   "codemirror_mode": {
    "name": "ipython",
    "version": 3
   },
   "file_extension": ".py",
   "mimetype": "text/x-python",
   "name": "python",
   "nbconvert_exporter": "python",
   "pygments_lexer": "ipython3",
   "version": "3.9.4"
  }
 },
 "nbformat": 4,
 "nbformat_minor": 5
}
