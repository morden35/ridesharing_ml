{
 "cells": [
  {
   "cell_type": "code",
   "execution_count": 23,
   "id": "fa49a9c3",
   "metadata": {},
   "outputs": [],
   "source": [
    "import pandas as pd\n",
    "import matplotlib.pyplot as plt"
   ]
  },
  {
   "cell_type": "code",
   "execution_count": 52,
   "id": "36e49494",
   "metadata": {},
   "outputs": [],
   "source": [
    "# 2019 has 15,596,672 rows. So, I took a random 10% sample of the original data."
   ]
  },
  {
   "cell_type": "code",
   "execution_count": 54,
   "id": "78716e9c",
   "metadata": {},
   "outputs": [],
   "source": [
    "col_types = {\"Trip ID\": \"object\",\n",
    "\"Trip Start Timestamp\": \"object\",\n",
    "\"Trip End Timestamp\": \"object\",\n",
    "\"Trip Seconds\": \"float64\",\n",
    "\"Trip Miles\": \"float64\",\n",
    "\"Pickup Census Tract\": \"float64\",\n",
    "\"Dropoff Census Tract\": \"float64\",\n",
    "\"Pickup Community Area\": \"float64\",\n",
    "\"Dropoff Community Area\": \"float64\",\n",
    "\"Fare\": \"float64\",\n",
    "\"Tip\": \"float64\",\n",
    "\"Additional Charges\": \"float64\",\n",
    "\"Trip Total\": \"float64\",\n",
    "\"Shared Trip Authorized\": \"object\",\n",
    "\"Trips Pooled\": \"float64\",\n",
    "\"Pickup Centroid Latitude\": \"float64\",\n",
    "\"Pickup Centroid Longitude\": \"float64\",\n",
    "\"Pickup Centroid Location\": \"object\",\n",
    "\"Dropoff Centroid Latitude\": \"float64\",\n",
    "\"Dropoff Centroid Longitude\": \"float64\",\n",
    "\"Dropoff Centroid Location\": \"object\"}"
   ]
  },
  {
   "cell_type": "code",
   "execution_count": 55,
   "id": "55308439",
   "metadata": {},
   "outputs": [],
   "source": [
    "parse_dates= [\"Trip Start Timestamp\", \"Trip End Timestamp\"]"
   ]
  },
  {
   "cell_type": "code",
   "execution_count": 56,
   "id": "e1e78f4d",
   "metadata": {},
   "outputs": [],
   "source": [
    "rides_2019 = pd.read_csv(\"data/rides_2019_subset.csv\")"
   ]
  },
  {
   "cell_type": "code",
   "execution_count": 57,
   "id": "4931d405",
   "metadata": {},
   "outputs": [
    {
     "name": "stdout",
     "output_type": "stream",
     "text": [
      "<class 'pandas.core.frame.DataFrame'>\n",
      "RangeIndex: 1559667 entries, 0 to 1559666\n",
      "Data columns (total 22 columns):\n",
      " #   Column                      Non-Null Count    Dtype  \n",
      "---  ------                      --------------    -----  \n",
      " 0   Unnamed: 0                  1559667 non-null  int64  \n",
      " 1   Trip ID                     1559667 non-null  object \n",
      " 2   Trip Start Timestamp        1559667 non-null  object \n",
      " 3   Trip End Timestamp          1559667 non-null  object \n",
      " 4   Trip Seconds                1559666 non-null  float64\n",
      " 5   Trip Miles                  1559667 non-null  float64\n",
      " 6   Pickup Census Tract         1126406 non-null  float64\n",
      " 7   Dropoff Census Tract        1119918 non-null  float64\n",
      " 8   Pickup Community Area       1471145 non-null  float64\n",
      " 9   Dropoff Community Area      1459240 non-null  float64\n",
      " 10  Fare                        1559667 non-null  float64\n",
      " 11  Tip                         1559667 non-null  float64\n",
      " 12  Additional Charges          1559667 non-null  float64\n",
      " 13  Trip Total                  1559667 non-null  float64\n",
      " 14  Shared Trip Authorized      1559667 non-null  bool   \n",
      " 15  Trips Pooled                1559667 non-null  float64\n",
      " 16  Pickup Centroid Latitude    1472027 non-null  float64\n",
      " 17  Pickup Centroid Longitude   1472027 non-null  float64\n",
      " 18  Pickup Centroid Location    1472027 non-null  object \n",
      " 19  Dropoff Centroid Latitude   1460175 non-null  float64\n",
      " 20  Dropoff Centroid Longitude  1460175 non-null  float64\n",
      " 21  Dropoff Centroid Location   1460175 non-null  object \n",
      "dtypes: bool(1), float64(15), int64(1), object(5)\n",
      "memory usage: 251.4+ MB\n"
     ]
    }
   ],
   "source": [
    "rides_2019.info()"
   ]
  },
  {
   "cell_type": "code",
   "execution_count": 59,
   "id": "575db094",
   "metadata": {},
   "outputs": [],
   "source": [
    "rides_2019[\"Trip Start Timestamp\"] = pd.to_datetime(rides_2019[\"Trip Start Timestamp\"])"
   ]
  },
  {
   "cell_type": "code",
   "execution_count": 60,
   "id": "dc1b8a40",
   "metadata": {},
   "outputs": [
    {
     "data": {
      "text/plain": [
       "Timestamp('2019-01-01 00:00:00')"
      ]
     },
     "execution_count": 60,
     "metadata": {},
     "output_type": "execute_result"
    }
   ],
   "source": [
    "rides_2019[\"Trip Start Timestamp\"].min()"
   ]
  },
  {
   "cell_type": "code",
   "execution_count": 61,
   "id": "83bf78b8",
   "metadata": {},
   "outputs": [
    {
     "data": {
      "text/plain": [
       "Timestamp('2019-02-22 19:45:00')"
      ]
     },
     "execution_count": 61,
     "metadata": {},
     "output_type": "execute_result"
    }
   ],
   "source": [
    "rides_2019[\"Trip Start Timestamp\"].max()"
   ]
  },
  {
   "cell_type": "markdown",
   "id": "3de7203e",
   "metadata": {},
   "source": [
    "___"
   ]
  },
  {
   "cell_type": "code",
   "execution_count": null,
   "id": "46206c2b",
   "metadata": {},
   "outputs": [],
   "source": [
    "for x in range(200):\n",
    "    small_file = pd.read_csv(f\"data/rides/rides_2019_{x}.csv\",\n",
    "                            dtype=col_types,\n",
    "                            parse_dates=parse_dates)\n",
    "    all_rides_2019 = pd.concat([all_rides_2019, small_file])"
   ]
  },
  {
   "cell_type": "code",
   "execution_count": 45,
   "id": "c23ff53d",
   "metadata": {},
   "outputs": [],
   "source": [
    "all_rides_2019_initial = all_rides_2019"
   ]
  },
  {
   "cell_type": "code",
   "execution_count": 11,
   "id": "4cb70743",
   "metadata": {},
   "outputs": [
    {
     "data": {
      "text/html": [
       "<div>\n",
       "<style scoped>\n",
       "    .dataframe tbody tr th:only-of-type {\n",
       "        vertical-align: middle;\n",
       "    }\n",
       "\n",
       "    .dataframe tbody tr th {\n",
       "        vertical-align: top;\n",
       "    }\n",
       "\n",
       "    .dataframe thead th {\n",
       "        text-align: right;\n",
       "    }\n",
       "</style>\n",
       "<table border=\"1\" class=\"dataframe\">\n",
       "  <thead>\n",
       "    <tr style=\"text-align: right;\">\n",
       "      <th></th>\n",
       "      <th>Unnamed: 0</th>\n",
       "      <th>Trip ID</th>\n",
       "      <th>Trip Start Timestamp</th>\n",
       "      <th>Trip End Timestamp</th>\n",
       "      <th>Trip Seconds</th>\n",
       "      <th>Trip Miles</th>\n",
       "      <th>Pickup Census Tract</th>\n",
       "      <th>Dropoff Census Tract</th>\n",
       "      <th>Pickup Community Area</th>\n",
       "      <th>Dropoff Community Area</th>\n",
       "      <th>...</th>\n",
       "      <th>Additional Charges</th>\n",
       "      <th>Trip Total</th>\n",
       "      <th>Shared Trip Authorized</th>\n",
       "      <th>Trips Pooled</th>\n",
       "      <th>Pickup Centroid Latitude</th>\n",
       "      <th>Pickup Centroid Longitude</th>\n",
       "      <th>Pickup Centroid Location</th>\n",
       "      <th>Dropoff Centroid Latitude</th>\n",
       "      <th>Dropoff Centroid Longitude</th>\n",
       "      <th>Dropoff Centroid Location</th>\n",
       "    </tr>\n",
       "  </thead>\n",
       "  <tbody>\n",
       "    <tr>\n",
       "      <th>0</th>\n",
       "      <td>0</td>\n",
       "      <td>003dd08da70461f811e7753fbaec03970414bddf</td>\n",
       "      <td>2019-01-01 00:00:00</td>\n",
       "      <td>01/01/2019 12:30:00 AM</td>\n",
       "      <td>1722.0</td>\n",
       "      <td>9.5</td>\n",
       "      <td>1.703108e+10</td>\n",
       "      <td>1.703183e+10</td>\n",
       "      <td>8.0</td>\n",
       "      <td>1.0</td>\n",
       "      <td>...</td>\n",
       "      <td>2.50</td>\n",
       "      <td>20.00</td>\n",
       "      <td>False</td>\n",
       "      <td>1.0</td>\n",
       "      <td>41.895033</td>\n",
       "      <td>-87.619711</td>\n",
       "      <td>POINT (-87.6197106717 41.8950334495)</td>\n",
       "      <td>42.001698</td>\n",
       "      <td>-87.673574</td>\n",
       "      <td>POINT (-87.6735740325 42.0016981937)</td>\n",
       "    </tr>\n",
       "    <tr>\n",
       "      <th>1</th>\n",
       "      <td>1</td>\n",
       "      <td>0043023973ca23fb921a20f07e83848779ef317d</td>\n",
       "      <td>2019-01-01 00:00:00</td>\n",
       "      <td>01/01/2019 12:15:00 AM</td>\n",
       "      <td>487.0</td>\n",
       "      <td>2.1</td>\n",
       "      <td>1.703105e+10</td>\n",
       "      <td>1.703106e+10</td>\n",
       "      <td>5.0</td>\n",
       "      <td>6.0</td>\n",
       "      <td>...</td>\n",
       "      <td>2.50</td>\n",
       "      <td>9.50</td>\n",
       "      <td>False</td>\n",
       "      <td>1.0</td>\n",
       "      <td>41.957736</td>\n",
       "      <td>-87.683718</td>\n",
       "      <td>POINT (-87.683718102 41.957735565)</td>\n",
       "      <td>41.936159</td>\n",
       "      <td>-87.661265</td>\n",
       "      <td>POINT (-87.6612652184 41.936159071)</td>\n",
       "    </tr>\n",
       "    <tr>\n",
       "      <th>2</th>\n",
       "      <td>2</td>\n",
       "      <td>007948a0627fa8aadde0c951d2b0db3f4f2f9252</td>\n",
       "      <td>2019-01-01 00:00:00</td>\n",
       "      <td>01/01/2019 12:30:00 AM</td>\n",
       "      <td>1298.0</td>\n",
       "      <td>18.6</td>\n",
       "      <td>1.703198e+10</td>\n",
       "      <td>NaN</td>\n",
       "      <td>76.0</td>\n",
       "      <td>NaN</td>\n",
       "      <td>...</td>\n",
       "      <td>8.25</td>\n",
       "      <td>35.75</td>\n",
       "      <td>False</td>\n",
       "      <td>1.0</td>\n",
       "      <td>41.979071</td>\n",
       "      <td>-87.903040</td>\n",
       "      <td>POINT (-87.9030396611 41.9790708201)</td>\n",
       "      <td>NaN</td>\n",
       "      <td>NaN</td>\n",
       "      <td>NaN</td>\n",
       "    </tr>\n",
       "    <tr>\n",
       "      <th>3</th>\n",
       "      <td>3</td>\n",
       "      <td>0094daae9466da501bb6a819a91cd4f00e5cda40</td>\n",
       "      <td>2019-01-01 00:00:00</td>\n",
       "      <td>01/01/2019 12:15:00 AM</td>\n",
       "      <td>562.0</td>\n",
       "      <td>2.4</td>\n",
       "      <td>1.703184e+10</td>\n",
       "      <td>1.703122e+10</td>\n",
       "      <td>8.0</td>\n",
       "      <td>22.0</td>\n",
       "      <td>...</td>\n",
       "      <td>2.50</td>\n",
       "      <td>10.00</td>\n",
       "      <td>False</td>\n",
       "      <td>1.0</td>\n",
       "      <td>41.904935</td>\n",
       "      <td>-87.649907</td>\n",
       "      <td>POINT (-87.6499072264 41.9049353016)</td>\n",
       "      <td>41.915910</td>\n",
       "      <td>-87.683826</td>\n",
       "      <td>POINT (-87.6838259399 41.9159097884)</td>\n",
       "    </tr>\n",
       "    <tr>\n",
       "      <th>4</th>\n",
       "      <td>4</td>\n",
       "      <td>00987083f23af0936863ebb1e1da1d7c6c0a453e</td>\n",
       "      <td>2019-01-01 00:00:00</td>\n",
       "      <td>01/01/2019 12:15:00 AM</td>\n",
       "      <td>245.0</td>\n",
       "      <td>0.7</td>\n",
       "      <td>1.703183e+10</td>\n",
       "      <td>1.703128e+10</td>\n",
       "      <td>28.0</td>\n",
       "      <td>28.0</td>\n",
       "      <td>...</td>\n",
       "      <td>2.50</td>\n",
       "      <td>7.00</td>\n",
       "      <td>False</td>\n",
       "      <td>1.0</td>\n",
       "      <td>41.885281</td>\n",
       "      <td>-87.657233</td>\n",
       "      <td>POINT (-87.6572331997 41.8852813201)</td>\n",
       "      <td>41.879255</td>\n",
       "      <td>-87.642649</td>\n",
       "      <td>POINT (-87.642648998 41.8792550844)</td>\n",
       "    </tr>\n",
       "  </tbody>\n",
       "</table>\n",
       "<p>5 rows × 22 columns</p>\n",
       "</div>"
      ],
      "text/plain": [
       "   Unnamed: 0                                   Trip ID Trip Start Timestamp  \\\n",
       "0           0  003dd08da70461f811e7753fbaec03970414bddf  2019-01-01 00:00:00   \n",
       "1           1  0043023973ca23fb921a20f07e83848779ef317d  2019-01-01 00:00:00   \n",
       "2           2  007948a0627fa8aadde0c951d2b0db3f4f2f9252  2019-01-01 00:00:00   \n",
       "3           3  0094daae9466da501bb6a819a91cd4f00e5cda40  2019-01-01 00:00:00   \n",
       "4           4  00987083f23af0936863ebb1e1da1d7c6c0a453e  2019-01-01 00:00:00   \n",
       "\n",
       "       Trip End Timestamp  Trip Seconds  Trip Miles  Pickup Census Tract  \\\n",
       "0  01/01/2019 12:30:00 AM        1722.0         9.5         1.703108e+10   \n",
       "1  01/01/2019 12:15:00 AM         487.0         2.1         1.703105e+10   \n",
       "2  01/01/2019 12:30:00 AM        1298.0        18.6         1.703198e+10   \n",
       "3  01/01/2019 12:15:00 AM         562.0         2.4         1.703184e+10   \n",
       "4  01/01/2019 12:15:00 AM         245.0         0.7         1.703183e+10   \n",
       "\n",
       "   Dropoff Census Tract  Pickup Community Area  Dropoff Community Area  ...  \\\n",
       "0          1.703183e+10                    8.0                     1.0  ...   \n",
       "1          1.703106e+10                    5.0                     6.0  ...   \n",
       "2                   NaN                   76.0                     NaN  ...   \n",
       "3          1.703122e+10                    8.0                    22.0  ...   \n",
       "4          1.703128e+10                   28.0                    28.0  ...   \n",
       "\n",
       "   Additional Charges  Trip Total  Shared Trip Authorized  Trips Pooled  \\\n",
       "0                2.50       20.00                   False           1.0   \n",
       "1                2.50        9.50                   False           1.0   \n",
       "2                8.25       35.75                   False           1.0   \n",
       "3                2.50       10.00                   False           1.0   \n",
       "4                2.50        7.00                   False           1.0   \n",
       "\n",
       "  Pickup Centroid Latitude  Pickup Centroid Longitude  \\\n",
       "0                41.895033                 -87.619711   \n",
       "1                41.957736                 -87.683718   \n",
       "2                41.979071                 -87.903040   \n",
       "3                41.904935                 -87.649907   \n",
       "4                41.885281                 -87.657233   \n",
       "\n",
       "               Pickup Centroid Location  Dropoff Centroid Latitude  \\\n",
       "0  POINT (-87.6197106717 41.8950334495)                  42.001698   \n",
       "1    POINT (-87.683718102 41.957735565)                  41.936159   \n",
       "2  POINT (-87.9030396611 41.9790708201)                        NaN   \n",
       "3  POINT (-87.6499072264 41.9049353016)                  41.915910   \n",
       "4  POINT (-87.6572331997 41.8852813201)                  41.879255   \n",
       "\n",
       "  Dropoff Centroid Longitude             Dropoff Centroid Location  \n",
       "0                 -87.673574  POINT (-87.6735740325 42.0016981937)  \n",
       "1                 -87.661265   POINT (-87.6612652184 41.936159071)  \n",
       "2                        NaN                                   NaN  \n",
       "3                 -87.683826  POINT (-87.6838259399 41.9159097884)  \n",
       "4                 -87.642649   POINT (-87.642648998 41.8792550844)  \n",
       "\n",
       "[5 rows x 22 columns]"
      ]
     },
     "execution_count": 11,
     "metadata": {},
     "output_type": "execute_result"
    }
   ],
   "source": [
    "all_rides_2019.head()"
   ]
  },
  {
   "cell_type": "code",
   "execution_count": 43,
   "id": "fe1993d8",
   "metadata": {},
   "outputs": [
    {
     "data": {
      "text/html": [
       "<div>\n",
       "<style scoped>\n",
       "    .dataframe tbody tr th:only-of-type {\n",
       "        vertical-align: middle;\n",
       "    }\n",
       "\n",
       "    .dataframe tbody tr th {\n",
       "        vertical-align: top;\n",
       "    }\n",
       "\n",
       "    .dataframe thead th {\n",
       "        text-align: right;\n",
       "    }\n",
       "</style>\n",
       "<table border=\"1\" class=\"dataframe\">\n",
       "  <thead>\n",
       "    <tr style=\"text-align: right;\">\n",
       "      <th></th>\n",
       "      <th>Unnamed: 0</th>\n",
       "      <th>Trip ID</th>\n",
       "      <th>Trip Start Timestamp</th>\n",
       "      <th>Trip End Timestamp</th>\n",
       "      <th>Trip Seconds</th>\n",
       "      <th>Trip Miles</th>\n",
       "      <th>Pickup Census Tract</th>\n",
       "      <th>Dropoff Census Tract</th>\n",
       "      <th>Pickup Community Area</th>\n",
       "      <th>Dropoff Community Area</th>\n",
       "      <th>...</th>\n",
       "      <th>Shared Trip Authorized</th>\n",
       "      <th>Trips Pooled</th>\n",
       "      <th>Pickup Centroid Latitude</th>\n",
       "      <th>Pickup Centroid Longitude</th>\n",
       "      <th>Pickup Centroid Location</th>\n",
       "      <th>Dropoff Centroid Latitude</th>\n",
       "      <th>Dropoff Centroid Longitude</th>\n",
       "      <th>Dropoff Centroid Location</th>\n",
       "      <th>Trip Start Month</th>\n",
       "      <th>Trip Start Week</th>\n",
       "    </tr>\n",
       "  </thead>\n",
       "  <tbody>\n",
       "    <tr>\n",
       "      <th>77851</th>\n",
       "      <td>15596667</td>\n",
       "      <td>aff9e102b79ae5b6a122ec843cb770a0709cbbfa</td>\n",
       "      <td>2019-02-22 19:45:00</td>\n",
       "      <td>2019-02-22 19:45:00</td>\n",
       "      <td>528.0</td>\n",
       "      <td>2.4</td>\n",
       "      <td>1.703105e+10</td>\n",
       "      <td>1.703124e+10</td>\n",
       "      <td>5.0</td>\n",
       "      <td>24.0</td>\n",
       "      <td>...</td>\n",
       "      <td>False</td>\n",
       "      <td>1.0</td>\n",
       "      <td>41.935749</td>\n",
       "      <td>-87.68098</td>\n",
       "      <td>POI{</td>\n",
       "      <td>NaN</td>\n",
       "      <td>NaN</td>\n",
       "      <td>NaN</td>\n",
       "      <td>2.0</td>\n",
       "      <td>8</td>\n",
       "    </tr>\n",
       "    <tr>\n",
       "      <th>77852</th>\n",
       "      <td>15596668</td>\n",
       "      <td>\"error\" : true</td>\n",
       "      <td>NaT</td>\n",
       "      <td>NaT</td>\n",
       "      <td>NaN</td>\n",
       "      <td>NaN</td>\n",
       "      <td>NaN</td>\n",
       "      <td>NaN</td>\n",
       "      <td>NaN</td>\n",
       "      <td>NaN</td>\n",
       "      <td>...</td>\n",
       "      <td>NaN</td>\n",
       "      <td>NaN</td>\n",
       "      <td>NaN</td>\n",
       "      <td>NaN</td>\n",
       "      <td>NaN</td>\n",
       "      <td>NaN</td>\n",
       "      <td>NaN</td>\n",
       "      <td>NaN</td>\n",
       "      <td>NaN</td>\n",
       "      <td>&lt;NA&gt;</td>\n",
       "    </tr>\n",
       "    <tr>\n",
       "      <th>77853</th>\n",
       "      <td>15596669</td>\n",
       "      <td>\"message\" : \"Internal error\"</td>\n",
       "      <td>NaT</td>\n",
       "      <td>NaT</td>\n",
       "      <td>NaN</td>\n",
       "      <td>NaN</td>\n",
       "      <td>NaN</td>\n",
       "      <td>NaN</td>\n",
       "      <td>NaN</td>\n",
       "      <td>NaN</td>\n",
       "      <td>...</td>\n",
       "      <td>NaN</td>\n",
       "      <td>NaN</td>\n",
       "      <td>NaN</td>\n",
       "      <td>NaN</td>\n",
       "      <td>NaN</td>\n",
       "      <td>NaN</td>\n",
       "      <td>NaN</td>\n",
       "      <td>NaN</td>\n",
       "      <td>NaN</td>\n",
       "      <td>&lt;NA&gt;</td>\n",
       "    </tr>\n",
       "    <tr>\n",
       "      <th>77854</th>\n",
       "      <td>15596670</td>\n",
       "      <td>\"status\" : 500</td>\n",
       "      <td>NaT</td>\n",
       "      <td>NaT</td>\n",
       "      <td>NaN</td>\n",
       "      <td>NaN</td>\n",
       "      <td>NaN</td>\n",
       "      <td>NaN</td>\n",
       "      <td>NaN</td>\n",
       "      <td>NaN</td>\n",
       "      <td>...</td>\n",
       "      <td>NaN</td>\n",
       "      <td>NaN</td>\n",
       "      <td>NaN</td>\n",
       "      <td>NaN</td>\n",
       "      <td>NaN</td>\n",
       "      <td>NaN</td>\n",
       "      <td>NaN</td>\n",
       "      <td>NaN</td>\n",
       "      <td>NaN</td>\n",
       "      <td>&lt;NA&gt;</td>\n",
       "    </tr>\n",
       "    <tr>\n",
       "      <th>77855</th>\n",
       "      <td>15596671</td>\n",
       "      <td>}</td>\n",
       "      <td>NaT</td>\n",
       "      <td>NaT</td>\n",
       "      <td>NaN</td>\n",
       "      <td>NaN</td>\n",
       "      <td>NaN</td>\n",
       "      <td>NaN</td>\n",
       "      <td>NaN</td>\n",
       "      <td>NaN</td>\n",
       "      <td>...</td>\n",
       "      <td>NaN</td>\n",
       "      <td>NaN</td>\n",
       "      <td>NaN</td>\n",
       "      <td>NaN</td>\n",
       "      <td>NaN</td>\n",
       "      <td>NaN</td>\n",
       "      <td>NaN</td>\n",
       "      <td>NaN</td>\n",
       "      <td>NaN</td>\n",
       "      <td>&lt;NA&gt;</td>\n",
       "    </tr>\n",
       "  </tbody>\n",
       "</table>\n",
       "<p>5 rows × 24 columns</p>\n",
       "</div>"
      ],
      "text/plain": [
       "       Unnamed: 0                                   Trip ID  \\\n",
       "77851    15596667  aff9e102b79ae5b6a122ec843cb770a0709cbbfa   \n",
       "77852    15596668                            \"error\" : true   \n",
       "77853    15596669              \"message\" : \"Internal error\"   \n",
       "77854    15596670                            \"status\" : 500   \n",
       "77855    15596671                                         }   \n",
       "\n",
       "      Trip Start Timestamp  Trip End Timestamp  Trip Seconds  Trip Miles  \\\n",
       "77851  2019-02-22 19:45:00 2019-02-22 19:45:00         528.0         2.4   \n",
       "77852                  NaT                 NaT           NaN         NaN   \n",
       "77853                  NaT                 NaT           NaN         NaN   \n",
       "77854                  NaT                 NaT           NaN         NaN   \n",
       "77855                  NaT                 NaT           NaN         NaN   \n",
       "\n",
       "       Pickup Census Tract  Dropoff Census Tract  Pickup Community Area  \\\n",
       "77851         1.703105e+10          1.703124e+10                    5.0   \n",
       "77852                  NaN                   NaN                    NaN   \n",
       "77853                  NaN                   NaN                    NaN   \n",
       "77854                  NaN                   NaN                    NaN   \n",
       "77855                  NaN                   NaN                    NaN   \n",
       "\n",
       "       Dropoff Community Area  ...  Shared Trip Authorized  Trips Pooled  \\\n",
       "77851                    24.0  ...                   False           1.0   \n",
       "77852                     NaN  ...                     NaN           NaN   \n",
       "77853                     NaN  ...                     NaN           NaN   \n",
       "77854                     NaN  ...                     NaN           NaN   \n",
       "77855                     NaN  ...                     NaN           NaN   \n",
       "\n",
       "       Pickup Centroid Latitude  Pickup Centroid Longitude  \\\n",
       "77851                 41.935749                  -87.68098   \n",
       "77852                       NaN                        NaN   \n",
       "77853                       NaN                        NaN   \n",
       "77854                       NaN                        NaN   \n",
       "77855                       NaN                        NaN   \n",
       "\n",
       "      Pickup Centroid Location  Dropoff Centroid Latitude  \\\n",
       "77851                     POI{                        NaN   \n",
       "77852                      NaN                        NaN   \n",
       "77853                      NaN                        NaN   \n",
       "77854                      NaN                        NaN   \n",
       "77855                      NaN                        NaN   \n",
       "\n",
       "       Dropoff Centroid Longitude  Dropoff Centroid Location Trip Start Month  \\\n",
       "77851                         NaN                        NaN              2.0   \n",
       "77852                         NaN                        NaN              NaN   \n",
       "77853                         NaN                        NaN              NaN   \n",
       "77854                         NaN                        NaN              NaN   \n",
       "77855                         NaN                        NaN              NaN   \n",
       "\n",
       "       Trip Start Week  \n",
       "77851                8  \n",
       "77852             <NA>  \n",
       "77853             <NA>  \n",
       "77854             <NA>  \n",
       "77855             <NA>  \n",
       "\n",
       "[5 rows x 24 columns]"
      ]
     },
     "execution_count": 43,
     "metadata": {},
     "output_type": "execute_result"
    }
   ],
   "source": [
    "all_rides_2019.tail()"
   ]
  },
  {
   "cell_type": "code",
   "execution_count": 12,
   "id": "35396c93",
   "metadata": {},
   "outputs": [
    {
     "name": "stdout",
     "output_type": "stream",
     "text": [
      "<class 'pandas.core.frame.DataFrame'>\n",
      "Int64Index: 15596672 entries, 0 to 77855\n",
      "Data columns (total 22 columns):\n",
      " #   Column                      Dtype  \n",
      "---  ------                      -----  \n",
      " 0   Unnamed: 0                  int64  \n",
      " 1   Trip ID                     object \n",
      " 2   Trip Start Timestamp        object \n",
      " 3   Trip End Timestamp          object \n",
      " 4   Trip Seconds                float64\n",
      " 5   Trip Miles                  float64\n",
      " 6   Pickup Census Tract         float64\n",
      " 7   Dropoff Census Tract        float64\n",
      " 8   Pickup Community Area       float64\n",
      " 9   Dropoff Community Area      float64\n",
      " 10  Fare                        float64\n",
      " 11  Tip                         float64\n",
      " 12  Additional Charges          float64\n",
      " 13  Trip Total                  float64\n",
      " 14  Shared Trip Authorized      object \n",
      " 15  Trips Pooled                float64\n",
      " 16  Pickup Centroid Latitude    float64\n",
      " 17  Pickup Centroid Longitude   float64\n",
      " 18  Pickup Centroid Location    object \n",
      " 19  Dropoff Centroid Latitude   float64\n",
      " 20  Dropoff Centroid Longitude  float64\n",
      " 21  Dropoff Centroid Location   object \n",
      "dtypes: float64(15), int64(1), object(6)\n",
      "memory usage: 2.7+ GB\n"
     ]
    }
   ],
   "source": [
    "all_rides_2019.info()"
   ]
  },
  {
   "cell_type": "code",
   "execution_count": 15,
   "id": "ee0b971e",
   "metadata": {},
   "outputs": [],
   "source": [
    "all_rides_2019[\"Trip Start Timestamp\"] = pd.to_datetime(all_rides_2019[\"Trip Start Timestamp\"])"
   ]
  },
  {
   "cell_type": "code",
   "execution_count": 41,
   "id": "37b3cc61",
   "metadata": {},
   "outputs": [
    {
     "data": {
      "text/plain": [
       "Timestamp('2019-01-01 00:00:00')"
      ]
     },
     "execution_count": 41,
     "metadata": {},
     "output_type": "execute_result"
    }
   ],
   "source": [
    "all_rides_2019[\"Trip Start Timestamp\"].min()"
   ]
  },
  {
   "cell_type": "code",
   "execution_count": 42,
   "id": "2df6ab0c",
   "metadata": {},
   "outputs": [
    {
     "data": {
      "text/plain": [
       "Timestamp('2019-02-22 19:45:00')"
      ]
     },
     "execution_count": 42,
     "metadata": {},
     "output_type": "execute_result"
    }
   ],
   "source": [
    "all_rides_2019[\"Trip Start Timestamp\"].max()"
   ]
  },
  {
   "cell_type": "code",
   "execution_count": 16,
   "id": "add128b1",
   "metadata": {},
   "outputs": [],
   "source": [
    "all_rides_2019[\"Trip End Timestamp\"] = pd.to_datetime(all_rides_2019[\"Trip End Timestamp\"])"
   ]
  },
  {
   "cell_type": "code",
   "execution_count": 36,
   "id": "e3d0fbb2",
   "metadata": {},
   "outputs": [],
   "source": [
    "all_rides_2019[\"Trip Start Week\"] = all_rides_2019[\"Trip Start Timestamp\"].dt.isocalendar().week"
   ]
  },
  {
   "cell_type": "code",
   "execution_count": 40,
   "id": "79741e6e",
   "metadata": {},
   "outputs": [
    {
     "data": {
      "text/plain": [
       "<IntegerArray>\n",
       "[1, 2, 3, 4, 5, 6, 7, 8, <NA>]\n",
       "Length: 9, dtype: UInt32"
      ]
     },
     "execution_count": 40,
     "metadata": {},
     "output_type": "execute_result"
    }
   ],
   "source": [
    "all_rides_2019[\"Trip Start Week\"].unique()"
   ]
  },
  {
   "cell_type": "code",
   "execution_count": 33,
   "id": "db048548",
   "metadata": {},
   "outputs": [],
   "source": [
    "all_rides_2019[\"Trip Start Month\"] = all_rides_2019[\"Trip Start Timestamp\"].dt.month"
   ]
  },
  {
   "cell_type": "code",
   "execution_count": 37,
   "id": "4fd0d0d6",
   "metadata": {},
   "outputs": [],
   "source": [
    "avg_total_date = all_rides_2019[[\"Trip Start Week\", \"Trip Total\"]].groupby(\"Trip Start Week\").mean()"
   ]
  },
  {
   "cell_type": "code",
   "execution_count": 38,
   "id": "a64bf577",
   "metadata": {},
   "outputs": [],
   "source": [
    "avg_total_date = avg_total_date.reset_index()"
   ]
  },
  {
   "cell_type": "code",
   "execution_count": 39,
   "id": "68113b98",
   "metadata": {},
   "outputs": [
    {
     "data": {
      "text/plain": [
       "[<matplotlib.lines.Line2D at 0x7fea29e01730>]"
      ]
     },
     "execution_count": 39,
     "metadata": {},
     "output_type": "execute_result"
    },
    {
     "data": {
      "image/png": "[encoded data removed]",
      "text/plain": [
       "<Figure size 432x288 with 1 Axes>"
      ]
     },
     "metadata": {
      "needs_background": "light"
     },
     "output_type": "display_data"
    }
   ],
   "source": [
    "plt.plot(avg_total_date[\"Trip Start Week\"], avg_total_date[\"Trip Total\"])"
   ]
  },
  {
   "cell_type": "code",
   "execution_count": null,
   "id": "2fc21b07",
   "metadata": {},
   "outputs": [],
   "source": []
  }
 ],
 "metadata": {
  "kernelspec": {
   "display_name": "Python 3",
   "language": "python",
   "name": "python3"
  },
  "language_info": {
   "codemirror_mode": {
    "name": "ipython",
    "version": 3
   },
   "file_extension": ".py",
   "mimetype": "text/x-python",
   "name": "python",
   "nbconvert_exporter": "python",
   "pygments_lexer": "ipython3",
   "version": "3.8.8"
  }
 },
 "nbformat": 4,
 "nbformat_minor": 5
}
